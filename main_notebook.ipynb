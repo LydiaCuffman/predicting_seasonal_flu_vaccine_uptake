{
 "cells": [
  {
   "cell_type": "markdown",
   "metadata": {},
   "source": [
    "# Predicting Seasonal Flu Vaccine Status\n",
    "## Lydia Cuffman and Ramses Nestor Reis"
   ]
  },
  {
   "cell_type": "markdown",
   "metadata": {},
   "source": [
    "### Overview\n",
    "Vaccines are a very important tool for the promotion of public health. They work best when most people get their vaccinations, leading to higher rates of group immunity and protecting those who cannot be immunized. Since vaccines are so valuable, it is useful to know whether a person is likely to pursue immunization."
   ]
  },
  {
   "cell_type": "markdown",
   "metadata": {},
   "source": [
    "### Business and Data Understanding\n",
    "We have been tasked by a large healthcare organization to classify patients based on their seasonal flu shot status. In an overtaxed medical system, it is to the organization's advantage to minimize the number of flu cases. Obviously it is also to the benefit of the patients to not suffer from the flu and its possible serious consequences. By creating a model of whether a patient is likely to get their seasonal flu vaccine, we can help the organization focus efforts on reaching out to those patients who are less likely to get their shot. If the healthcare organization can vaccinate more patients, they can dedicate their finite resources to other important but perhaps less urgent needs."
   ]
  },
  {
   "cell_type": "code",
   "execution_count": 1,
   "metadata": {},
   "outputs": [],
   "source": [
    "import pandas as pd\n",
    "from sklearn.model_selection import train_test_split, cross_validate\n",
    "from sklearn.pipeline import Pipeline\n",
    "from sklearn.impute import SimpleImputer\n",
    "from sklearn.preprocessing import OneHotEncoder, StandardScaler\n",
    "from sklearn.compose import ColumnTransformer\n",
    "from sklearn.tree import DecisionTreeClassifier\n",
    "from sklearn.linear_model import LogisticRegression\n",
    "from sklearn.dummy import DummyClassifier\n",
    "from sklearn.metrics import accuracy_score, classification_report, f1_score, roc_auc_score, roc_curve, precision_score\n",
    "from sklearn.metrics import confusion_matrix\n",
    "import seaborn as sns\n",
    "import matplotlib.pyplot as plt\n",
    "from sklearn.model_selection import GridSearchCV\n",
    "from sklearn.metrics import roc_curve, roc_auc_score, auc\n"
   ]
  },
  {
   "cell_type": "code",
   "execution_count": 2,
   "metadata": {},
   "outputs": [],
   "source": [
    "#Import our data and combine it into a single dataframe.\n",
    "features = pd.read_csv('data/training_set_features.csv')\n",
    "labels = pd.read_csv('data/training_set_labels.csv')"
   ]
  },
  {
   "cell_type": "code",
   "execution_count": 3,
   "metadata": {},
   "outputs": [],
   "source": [
    "flu_df = pd.merge(features, labels, on='respondent_id', how='outer')"
   ]
  },
  {
   "cell_type": "code",
   "execution_count": 4,
   "metadata": {
    "scrolled": true
   },
   "outputs": [
    {
     "data": {
      "text/html": [
       "<div>\n",
       "<style scoped>\n",
       "    .dataframe tbody tr th:only-of-type {\n",
       "        vertical-align: middle;\n",
       "    }\n",
       "\n",
       "    .dataframe tbody tr th {\n",
       "        vertical-align: top;\n",
       "    }\n",
       "\n",
       "    .dataframe thead th {\n",
       "        text-align: right;\n",
       "    }\n",
       "</style>\n",
       "<table border=\"1\" class=\"dataframe\">\n",
       "  <thead>\n",
       "    <tr style=\"text-align: right;\">\n",
       "      <th></th>\n",
       "      <th>respondent_id</th>\n",
       "      <th>h1n1_concern</th>\n",
       "      <th>h1n1_knowledge</th>\n",
       "      <th>behavioral_antiviral_meds</th>\n",
       "      <th>behavioral_avoidance</th>\n",
       "      <th>behavioral_face_mask</th>\n",
       "      <th>behavioral_wash_hands</th>\n",
       "      <th>behavioral_large_gatherings</th>\n",
       "      <th>behavioral_outside_home</th>\n",
       "      <th>behavioral_touch_face</th>\n",
       "      <th>...</th>\n",
       "      <th>rent_or_own</th>\n",
       "      <th>employment_status</th>\n",
       "      <th>hhs_geo_region</th>\n",
       "      <th>census_msa</th>\n",
       "      <th>household_adults</th>\n",
       "      <th>household_children</th>\n",
       "      <th>employment_industry</th>\n",
       "      <th>employment_occupation</th>\n",
       "      <th>h1n1_vaccine</th>\n",
       "      <th>seasonal_vaccine</th>\n",
       "    </tr>\n",
       "  </thead>\n",
       "  <tbody>\n",
       "    <tr>\n",
       "      <th>0</th>\n",
       "      <td>0</td>\n",
       "      <td>1.0</td>\n",
       "      <td>0.0</td>\n",
       "      <td>0.0</td>\n",
       "      <td>0.0</td>\n",
       "      <td>0.0</td>\n",
       "      <td>0.0</td>\n",
       "      <td>0.0</td>\n",
       "      <td>1.0</td>\n",
       "      <td>1.0</td>\n",
       "      <td>...</td>\n",
       "      <td>Own</td>\n",
       "      <td>Not in Labor Force</td>\n",
       "      <td>oxchjgsf</td>\n",
       "      <td>Non-MSA</td>\n",
       "      <td>0.0</td>\n",
       "      <td>0.0</td>\n",
       "      <td>NaN</td>\n",
       "      <td>NaN</td>\n",
       "      <td>0</td>\n",
       "      <td>0</td>\n",
       "    </tr>\n",
       "    <tr>\n",
       "      <th>1</th>\n",
       "      <td>1</td>\n",
       "      <td>3.0</td>\n",
       "      <td>2.0</td>\n",
       "      <td>0.0</td>\n",
       "      <td>1.0</td>\n",
       "      <td>0.0</td>\n",
       "      <td>1.0</td>\n",
       "      <td>0.0</td>\n",
       "      <td>1.0</td>\n",
       "      <td>1.0</td>\n",
       "      <td>...</td>\n",
       "      <td>Rent</td>\n",
       "      <td>Employed</td>\n",
       "      <td>bhuqouqj</td>\n",
       "      <td>MSA, Not Principle  City</td>\n",
       "      <td>0.0</td>\n",
       "      <td>0.0</td>\n",
       "      <td>pxcmvdjn</td>\n",
       "      <td>xgwztkwe</td>\n",
       "      <td>0</td>\n",
       "      <td>1</td>\n",
       "    </tr>\n",
       "    <tr>\n",
       "      <th>2</th>\n",
       "      <td>2</td>\n",
       "      <td>1.0</td>\n",
       "      <td>1.0</td>\n",
       "      <td>0.0</td>\n",
       "      <td>1.0</td>\n",
       "      <td>0.0</td>\n",
       "      <td>0.0</td>\n",
       "      <td>0.0</td>\n",
       "      <td>0.0</td>\n",
       "      <td>0.0</td>\n",
       "      <td>...</td>\n",
       "      <td>Own</td>\n",
       "      <td>Employed</td>\n",
       "      <td>qufhixun</td>\n",
       "      <td>MSA, Not Principle  City</td>\n",
       "      <td>2.0</td>\n",
       "      <td>0.0</td>\n",
       "      <td>rucpziij</td>\n",
       "      <td>xtkaffoo</td>\n",
       "      <td>0</td>\n",
       "      <td>0</td>\n",
       "    </tr>\n",
       "    <tr>\n",
       "      <th>3</th>\n",
       "      <td>3</td>\n",
       "      <td>1.0</td>\n",
       "      <td>1.0</td>\n",
       "      <td>0.0</td>\n",
       "      <td>1.0</td>\n",
       "      <td>0.0</td>\n",
       "      <td>1.0</td>\n",
       "      <td>1.0</td>\n",
       "      <td>0.0</td>\n",
       "      <td>0.0</td>\n",
       "      <td>...</td>\n",
       "      <td>Rent</td>\n",
       "      <td>Not in Labor Force</td>\n",
       "      <td>lrircsnp</td>\n",
       "      <td>MSA, Principle City</td>\n",
       "      <td>0.0</td>\n",
       "      <td>0.0</td>\n",
       "      <td>NaN</td>\n",
       "      <td>NaN</td>\n",
       "      <td>0</td>\n",
       "      <td>1</td>\n",
       "    </tr>\n",
       "    <tr>\n",
       "      <th>4</th>\n",
       "      <td>4</td>\n",
       "      <td>2.0</td>\n",
       "      <td>1.0</td>\n",
       "      <td>0.0</td>\n",
       "      <td>1.0</td>\n",
       "      <td>0.0</td>\n",
       "      <td>1.0</td>\n",
       "      <td>1.0</td>\n",
       "      <td>0.0</td>\n",
       "      <td>1.0</td>\n",
       "      <td>...</td>\n",
       "      <td>Own</td>\n",
       "      <td>Employed</td>\n",
       "      <td>qufhixun</td>\n",
       "      <td>MSA, Not Principle  City</td>\n",
       "      <td>1.0</td>\n",
       "      <td>0.0</td>\n",
       "      <td>wxleyezf</td>\n",
       "      <td>emcorrxb</td>\n",
       "      <td>0</td>\n",
       "      <td>0</td>\n",
       "    </tr>\n",
       "    <tr>\n",
       "      <th>...</th>\n",
       "      <td>...</td>\n",
       "      <td>...</td>\n",
       "      <td>...</td>\n",
       "      <td>...</td>\n",
       "      <td>...</td>\n",
       "      <td>...</td>\n",
       "      <td>...</td>\n",
       "      <td>...</td>\n",
       "      <td>...</td>\n",
       "      <td>...</td>\n",
       "      <td>...</td>\n",
       "      <td>...</td>\n",
       "      <td>...</td>\n",
       "      <td>...</td>\n",
       "      <td>...</td>\n",
       "      <td>...</td>\n",
       "      <td>...</td>\n",
       "      <td>...</td>\n",
       "      <td>...</td>\n",
       "      <td>...</td>\n",
       "      <td>...</td>\n",
       "    </tr>\n",
       "    <tr>\n",
       "      <th>26702</th>\n",
       "      <td>26702</td>\n",
       "      <td>2.0</td>\n",
       "      <td>0.0</td>\n",
       "      <td>0.0</td>\n",
       "      <td>1.0</td>\n",
       "      <td>0.0</td>\n",
       "      <td>0.0</td>\n",
       "      <td>0.0</td>\n",
       "      <td>1.0</td>\n",
       "      <td>0.0</td>\n",
       "      <td>...</td>\n",
       "      <td>Own</td>\n",
       "      <td>Not in Labor Force</td>\n",
       "      <td>qufhixun</td>\n",
       "      <td>Non-MSA</td>\n",
       "      <td>0.0</td>\n",
       "      <td>0.0</td>\n",
       "      <td>NaN</td>\n",
       "      <td>NaN</td>\n",
       "      <td>0</td>\n",
       "      <td>0</td>\n",
       "    </tr>\n",
       "    <tr>\n",
       "      <th>26703</th>\n",
       "      <td>26703</td>\n",
       "      <td>1.0</td>\n",
       "      <td>2.0</td>\n",
       "      <td>0.0</td>\n",
       "      <td>1.0</td>\n",
       "      <td>0.0</td>\n",
       "      <td>1.0</td>\n",
       "      <td>0.0</td>\n",
       "      <td>0.0</td>\n",
       "      <td>0.0</td>\n",
       "      <td>...</td>\n",
       "      <td>Rent</td>\n",
       "      <td>Employed</td>\n",
       "      <td>lzgpxyit</td>\n",
       "      <td>MSA, Principle City</td>\n",
       "      <td>1.0</td>\n",
       "      <td>0.0</td>\n",
       "      <td>fcxhlnwr</td>\n",
       "      <td>cmhcxjea</td>\n",
       "      <td>0</td>\n",
       "      <td>0</td>\n",
       "    </tr>\n",
       "    <tr>\n",
       "      <th>26704</th>\n",
       "      <td>26704</td>\n",
       "      <td>2.0</td>\n",
       "      <td>2.0</td>\n",
       "      <td>0.0</td>\n",
       "      <td>1.0</td>\n",
       "      <td>1.0</td>\n",
       "      <td>1.0</td>\n",
       "      <td>1.0</td>\n",
       "      <td>0.0</td>\n",
       "      <td>1.0</td>\n",
       "      <td>...</td>\n",
       "      <td>Own</td>\n",
       "      <td>NaN</td>\n",
       "      <td>lzgpxyit</td>\n",
       "      <td>MSA, Not Principle  City</td>\n",
       "      <td>0.0</td>\n",
       "      <td>0.0</td>\n",
       "      <td>NaN</td>\n",
       "      <td>NaN</td>\n",
       "      <td>0</td>\n",
       "      <td>1</td>\n",
       "    </tr>\n",
       "    <tr>\n",
       "      <th>26705</th>\n",
       "      <td>26705</td>\n",
       "      <td>1.0</td>\n",
       "      <td>1.0</td>\n",
       "      <td>0.0</td>\n",
       "      <td>0.0</td>\n",
       "      <td>0.0</td>\n",
       "      <td>0.0</td>\n",
       "      <td>0.0</td>\n",
       "      <td>0.0</td>\n",
       "      <td>NaN</td>\n",
       "      <td>...</td>\n",
       "      <td>Rent</td>\n",
       "      <td>Employed</td>\n",
       "      <td>lrircsnp</td>\n",
       "      <td>Non-MSA</td>\n",
       "      <td>1.0</td>\n",
       "      <td>0.0</td>\n",
       "      <td>fcxhlnwr</td>\n",
       "      <td>haliazsg</td>\n",
       "      <td>0</td>\n",
       "      <td>0</td>\n",
       "    </tr>\n",
       "    <tr>\n",
       "      <th>26706</th>\n",
       "      <td>26706</td>\n",
       "      <td>0.0</td>\n",
       "      <td>0.0</td>\n",
       "      <td>0.0</td>\n",
       "      <td>1.0</td>\n",
       "      <td>0.0</td>\n",
       "      <td>0.0</td>\n",
       "      <td>0.0</td>\n",
       "      <td>0.0</td>\n",
       "      <td>0.0</td>\n",
       "      <td>...</td>\n",
       "      <td>Own</td>\n",
       "      <td>Not in Labor Force</td>\n",
       "      <td>mlyzmhmf</td>\n",
       "      <td>MSA, Principle City</td>\n",
       "      <td>1.0</td>\n",
       "      <td>0.0</td>\n",
       "      <td>NaN</td>\n",
       "      <td>NaN</td>\n",
       "      <td>0</td>\n",
       "      <td>0</td>\n",
       "    </tr>\n",
       "  </tbody>\n",
       "</table>\n",
       "<p>26707 rows × 38 columns</p>\n",
       "</div>"
      ],
      "text/plain": [
       "       respondent_id  h1n1_concern  h1n1_knowledge  behavioral_antiviral_meds  \\\n",
       "0                  0           1.0             0.0                        0.0   \n",
       "1                  1           3.0             2.0                        0.0   \n",
       "2                  2           1.0             1.0                        0.0   \n",
       "3                  3           1.0             1.0                        0.0   \n",
       "4                  4           2.0             1.0                        0.0   \n",
       "...              ...           ...             ...                        ...   \n",
       "26702          26702           2.0             0.0                        0.0   \n",
       "26703          26703           1.0             2.0                        0.0   \n",
       "26704          26704           2.0             2.0                        0.0   \n",
       "26705          26705           1.0             1.0                        0.0   \n",
       "26706          26706           0.0             0.0                        0.0   \n",
       "\n",
       "       behavioral_avoidance  behavioral_face_mask  behavioral_wash_hands  \\\n",
       "0                       0.0                   0.0                    0.0   \n",
       "1                       1.0                   0.0                    1.0   \n",
       "2                       1.0                   0.0                    0.0   \n",
       "3                       1.0                   0.0                    1.0   \n",
       "4                       1.0                   0.0                    1.0   \n",
       "...                     ...                   ...                    ...   \n",
       "26702                   1.0                   0.0                    0.0   \n",
       "26703                   1.0                   0.0                    1.0   \n",
       "26704                   1.0                   1.0                    1.0   \n",
       "26705                   0.0                   0.0                    0.0   \n",
       "26706                   1.0                   0.0                    0.0   \n",
       "\n",
       "       behavioral_large_gatherings  behavioral_outside_home  \\\n",
       "0                              0.0                      1.0   \n",
       "1                              0.0                      1.0   \n",
       "2                              0.0                      0.0   \n",
       "3                              1.0                      0.0   \n",
       "4                              1.0                      0.0   \n",
       "...                            ...                      ...   \n",
       "26702                          0.0                      1.0   \n",
       "26703                          0.0                      0.0   \n",
       "26704                          1.0                      0.0   \n",
       "26705                          0.0                      0.0   \n",
       "26706                          0.0                      0.0   \n",
       "\n",
       "       behavioral_touch_face  ...  rent_or_own   employment_status  \\\n",
       "0                        1.0  ...          Own  Not in Labor Force   \n",
       "1                        1.0  ...         Rent            Employed   \n",
       "2                        0.0  ...          Own            Employed   \n",
       "3                        0.0  ...         Rent  Not in Labor Force   \n",
       "4                        1.0  ...          Own            Employed   \n",
       "...                      ...  ...          ...                 ...   \n",
       "26702                    0.0  ...          Own  Not in Labor Force   \n",
       "26703                    0.0  ...         Rent            Employed   \n",
       "26704                    1.0  ...          Own                 NaN   \n",
       "26705                    NaN  ...         Rent            Employed   \n",
       "26706                    0.0  ...          Own  Not in Labor Force   \n",
       "\n",
       "       hhs_geo_region                census_msa  household_adults  \\\n",
       "0            oxchjgsf                   Non-MSA               0.0   \n",
       "1            bhuqouqj  MSA, Not Principle  City               0.0   \n",
       "2            qufhixun  MSA, Not Principle  City               2.0   \n",
       "3            lrircsnp       MSA, Principle City               0.0   \n",
       "4            qufhixun  MSA, Not Principle  City               1.0   \n",
       "...               ...                       ...               ...   \n",
       "26702        qufhixun                   Non-MSA               0.0   \n",
       "26703        lzgpxyit       MSA, Principle City               1.0   \n",
       "26704        lzgpxyit  MSA, Not Principle  City               0.0   \n",
       "26705        lrircsnp                   Non-MSA               1.0   \n",
       "26706        mlyzmhmf       MSA, Principle City               1.0   \n",
       "\n",
       "       household_children  employment_industry  employment_occupation  \\\n",
       "0                     0.0                  NaN                    NaN   \n",
       "1                     0.0             pxcmvdjn               xgwztkwe   \n",
       "2                     0.0             rucpziij               xtkaffoo   \n",
       "3                     0.0                  NaN                    NaN   \n",
       "4                     0.0             wxleyezf               emcorrxb   \n",
       "...                   ...                  ...                    ...   \n",
       "26702                 0.0                  NaN                    NaN   \n",
       "26703                 0.0             fcxhlnwr               cmhcxjea   \n",
       "26704                 0.0                  NaN                    NaN   \n",
       "26705                 0.0             fcxhlnwr               haliazsg   \n",
       "26706                 0.0                  NaN                    NaN   \n",
       "\n",
       "       h1n1_vaccine  seasonal_vaccine  \n",
       "0                 0                 0  \n",
       "1                 0                 1  \n",
       "2                 0                 0  \n",
       "3                 0                 1  \n",
       "4                 0                 0  \n",
       "...             ...               ...  \n",
       "26702             0                 0  \n",
       "26703             0                 0  \n",
       "26704             0                 1  \n",
       "26705             0                 0  \n",
       "26706             0                 0  \n",
       "\n",
       "[26707 rows x 38 columns]"
      ]
     },
     "execution_count": 4,
     "metadata": {},
     "output_type": "execute_result"
    }
   ],
   "source": [
    "flu_df"
   ]
  },
  {
   "cell_type": "code",
   "execution_count": 5,
   "metadata": {
    "scrolled": true
   },
   "outputs": [
    {
     "name": "stdout",
     "output_type": "stream",
     "text": [
      "<class 'pandas.core.frame.DataFrame'>\n",
      "Int64Index: 26707 entries, 0 to 26706\n",
      "Data columns (total 38 columns):\n",
      " #   Column                       Non-Null Count  Dtype  \n",
      "---  ------                       --------------  -----  \n",
      " 0   respondent_id                26707 non-null  int64  \n",
      " 1   h1n1_concern                 26615 non-null  float64\n",
      " 2   h1n1_knowledge               26591 non-null  float64\n",
      " 3   behavioral_antiviral_meds    26636 non-null  float64\n",
      " 4   behavioral_avoidance         26499 non-null  float64\n",
      " 5   behavioral_face_mask         26688 non-null  float64\n",
      " 6   behavioral_wash_hands        26665 non-null  float64\n",
      " 7   behavioral_large_gatherings  26620 non-null  float64\n",
      " 8   behavioral_outside_home      26625 non-null  float64\n",
      " 9   behavioral_touch_face        26579 non-null  float64\n",
      " 10  doctor_recc_h1n1             24547 non-null  float64\n",
      " 11  doctor_recc_seasonal         24547 non-null  float64\n",
      " 12  chronic_med_condition        25736 non-null  float64\n",
      " 13  child_under_6_months         25887 non-null  float64\n",
      " 14  health_worker                25903 non-null  float64\n",
      " 15  health_insurance             14433 non-null  float64\n",
      " 16  opinion_h1n1_vacc_effective  26316 non-null  float64\n",
      " 17  opinion_h1n1_risk            26319 non-null  float64\n",
      " 18  opinion_h1n1_sick_from_vacc  26312 non-null  float64\n",
      " 19  opinion_seas_vacc_effective  26245 non-null  float64\n",
      " 20  opinion_seas_risk            26193 non-null  float64\n",
      " 21  opinion_seas_sick_from_vacc  26170 non-null  float64\n",
      " 22  age_group                    26707 non-null  object \n",
      " 23  education                    25300 non-null  object \n",
      " 24  race                         26707 non-null  object \n",
      " 25  sex                          26707 non-null  object \n",
      " 26  income_poverty               22284 non-null  object \n",
      " 27  marital_status               25299 non-null  object \n",
      " 28  rent_or_own                  24665 non-null  object \n",
      " 29  employment_status            25244 non-null  object \n",
      " 30  hhs_geo_region               26707 non-null  object \n",
      " 31  census_msa                   26707 non-null  object \n",
      " 32  household_adults             26458 non-null  float64\n",
      " 33  household_children           26458 non-null  float64\n",
      " 34  employment_industry          13377 non-null  object \n",
      " 35  employment_occupation        13237 non-null  object \n",
      " 36  h1n1_vaccine                 26707 non-null  int64  \n",
      " 37  seasonal_vaccine             26707 non-null  int64  \n",
      "dtypes: float64(23), int64(3), object(12)\n",
      "memory usage: 7.9+ MB\n"
     ]
    }
   ],
   "source": [
    "#Check out all the features in the data, as well as how many null values we're working with.\n",
    "flu_df.info()"
   ]
  },
  {
   "cell_type": "markdown",
   "metadata": {},
   "source": [
    "Most features have nulls, but not many. A few features include almost half null entries. If we remove all nulls even for just the features missing less than 10%, our whole data set would be reduced by 20%. And if we remove the columns with many nulls, we lose possibly important information about the influence of employment or health insurance status. We will need to handle nulls in another way. "
   ]
  },
  {
   "cell_type": "code",
   "execution_count": 6,
   "metadata": {
    "scrolled": true
   },
   "outputs": [
    {
     "data": {
      "text/html": [
       "<div>\n",
       "<style scoped>\n",
       "    .dataframe tbody tr th:only-of-type {\n",
       "        vertical-align: middle;\n",
       "    }\n",
       "\n",
       "    .dataframe tbody tr th {\n",
       "        vertical-align: top;\n",
       "    }\n",
       "\n",
       "    .dataframe thead th {\n",
       "        text-align: right;\n",
       "    }\n",
       "</style>\n",
       "<table border=\"1\" class=\"dataframe\">\n",
       "  <thead>\n",
       "    <tr style=\"text-align: right;\">\n",
       "      <th></th>\n",
       "      <th>respondent_id</th>\n",
       "      <th>h1n1_concern</th>\n",
       "      <th>h1n1_knowledge</th>\n",
       "      <th>behavioral_antiviral_meds</th>\n",
       "      <th>behavioral_avoidance</th>\n",
       "      <th>behavioral_face_mask</th>\n",
       "      <th>behavioral_wash_hands</th>\n",
       "      <th>behavioral_large_gatherings</th>\n",
       "      <th>behavioral_outside_home</th>\n",
       "      <th>behavioral_touch_face</th>\n",
       "      <th>...</th>\n",
       "      <th>opinion_h1n1_vacc_effective</th>\n",
       "      <th>opinion_h1n1_risk</th>\n",
       "      <th>opinion_h1n1_sick_from_vacc</th>\n",
       "      <th>opinion_seas_vacc_effective</th>\n",
       "      <th>opinion_seas_risk</th>\n",
       "      <th>opinion_seas_sick_from_vacc</th>\n",
       "      <th>household_adults</th>\n",
       "      <th>household_children</th>\n",
       "      <th>h1n1_vaccine</th>\n",
       "      <th>seasonal_vaccine</th>\n",
       "    </tr>\n",
       "  </thead>\n",
       "  <tbody>\n",
       "    <tr>\n",
       "      <th>respondent_id</th>\n",
       "      <td>1.000000</td>\n",
       "      <td>0.017839</td>\n",
       "      <td>0.003425</td>\n",
       "      <td>-0.008475</td>\n",
       "      <td>0.009638</td>\n",
       "      <td>-0.006644</td>\n",
       "      <td>0.011105</td>\n",
       "      <td>0.004539</td>\n",
       "      <td>0.009011</td>\n",
       "      <td>0.007575</td>\n",
       "      <td>...</td>\n",
       "      <td>0.005912</td>\n",
       "      <td>0.000958</td>\n",
       "      <td>-0.002270</td>\n",
       "      <td>0.005935</td>\n",
       "      <td>-0.005291</td>\n",
       "      <td>0.009563</td>\n",
       "      <td>0.000187</td>\n",
       "      <td>-0.003726</td>\n",
       "      <td>-0.003280</td>\n",
       "      <td>-0.004652</td>\n",
       "    </tr>\n",
       "    <tr>\n",
       "      <th>h1n1_concern</th>\n",
       "      <td>0.017839</td>\n",
       "      <td>1.000000</td>\n",
       "      <td>0.062522</td>\n",
       "      <td>0.090301</td>\n",
       "      <td>0.233713</td>\n",
       "      <td>0.156032</td>\n",
       "      <td>0.293565</td>\n",
       "      <td>0.255031</td>\n",
       "      <td>0.246424</td>\n",
       "      <td>0.248016</td>\n",
       "      <td>...</td>\n",
       "      <td>0.239604</td>\n",
       "      <td>0.377033</td>\n",
       "      <td>0.360070</td>\n",
       "      <td>0.235136</td>\n",
       "      <td>0.333990</td>\n",
       "      <td>0.225731</td>\n",
       "      <td>-0.015658</td>\n",
       "      <td>0.050525</td>\n",
       "      <td>0.121929</td>\n",
       "      <td>0.154828</td>\n",
       "    </tr>\n",
       "    <tr>\n",
       "      <th>h1n1_knowledge</th>\n",
       "      <td>0.003425</td>\n",
       "      <td>0.062522</td>\n",
       "      <td>1.000000</td>\n",
       "      <td>-0.010836</td>\n",
       "      <td>0.088839</td>\n",
       "      <td>0.030050</td>\n",
       "      <td>0.089785</td>\n",
       "      <td>-0.048898</td>\n",
       "      <td>-0.068219</td>\n",
       "      <td>0.086162</td>\n",
       "      <td>...</td>\n",
       "      <td>0.121009</td>\n",
       "      <td>0.073086</td>\n",
       "      <td>-0.019501</td>\n",
       "      <td>0.086103</td>\n",
       "      <td>0.076825</td>\n",
       "      <td>-0.062483</td>\n",
       "      <td>0.024874</td>\n",
       "      <td>0.050583</td>\n",
       "      <td>0.117951</td>\n",
       "      <td>0.120152</td>\n",
       "    </tr>\n",
       "    <tr>\n",
       "      <th>behavioral_antiviral_meds</th>\n",
       "      <td>-0.008475</td>\n",
       "      <td>0.090301</td>\n",
       "      <td>-0.010836</td>\n",
       "      <td>1.000000</td>\n",
       "      <td>0.049247</td>\n",
       "      <td>0.146261</td>\n",
       "      <td>0.064119</td>\n",
       "      <td>0.106287</td>\n",
       "      <td>0.127679</td>\n",
       "      <td>0.070868</td>\n",
       "      <td>...</td>\n",
       "      <td>0.030211</td>\n",
       "      <td>0.105163</td>\n",
       "      <td>0.079091</td>\n",
       "      <td>0.015003</td>\n",
       "      <td>0.085315</td>\n",
       "      <td>0.084305</td>\n",
       "      <td>0.044900</td>\n",
       "      <td>0.084822</td>\n",
       "      <td>0.040608</td>\n",
       "      <td>0.006277</td>\n",
       "    </tr>\n",
       "    <tr>\n",
       "      <th>behavioral_avoidance</th>\n",
       "      <td>0.009638</td>\n",
       "      <td>0.233713</td>\n",
       "      <td>0.088839</td>\n",
       "      <td>0.049247</td>\n",
       "      <td>1.000000</td>\n",
       "      <td>0.064946</td>\n",
       "      <td>0.338130</td>\n",
       "      <td>0.227675</td>\n",
       "      <td>0.220348</td>\n",
       "      <td>0.335335</td>\n",
       "      <td>...</td>\n",
       "      <td>0.112300</td>\n",
       "      <td>0.117851</td>\n",
       "      <td>0.131405</td>\n",
       "      <td>0.119554</td>\n",
       "      <td>0.129504</td>\n",
       "      <td>0.082942</td>\n",
       "      <td>0.019122</td>\n",
       "      <td>0.040328</td>\n",
       "      <td>0.047690</td>\n",
       "      <td>0.076395</td>\n",
       "    </tr>\n",
       "    <tr>\n",
       "      <th>behavioral_face_mask</th>\n",
       "      <td>-0.006644</td>\n",
       "      <td>0.156032</td>\n",
       "      <td>0.030050</td>\n",
       "      <td>0.146261</td>\n",
       "      <td>0.064946</td>\n",
       "      <td>1.000000</td>\n",
       "      <td>0.083363</td>\n",
       "      <td>0.180907</td>\n",
       "      <td>0.163382</td>\n",
       "      <td>0.104335</td>\n",
       "      <td>...</td>\n",
       "      <td>0.037651</td>\n",
       "      <td>0.131165</td>\n",
       "      <td>0.107129</td>\n",
       "      <td>0.041556</td>\n",
       "      <td>0.110161</td>\n",
       "      <td>0.090009</td>\n",
       "      <td>0.013991</td>\n",
       "      <td>0.005826</td>\n",
       "      <td>0.070498</td>\n",
       "      <td>0.050083</td>\n",
       "    </tr>\n",
       "    <tr>\n",
       "      <th>behavioral_wash_hands</th>\n",
       "      <td>0.011105</td>\n",
       "      <td>0.293565</td>\n",
       "      <td>0.089785</td>\n",
       "      <td>0.064119</td>\n",
       "      <td>0.338130</td>\n",
       "      <td>0.083363</td>\n",
       "      <td>1.000000</td>\n",
       "      <td>0.195364</td>\n",
       "      <td>0.192619</td>\n",
       "      <td>0.365064</td>\n",
       "      <td>...</td>\n",
       "      <td>0.136987</td>\n",
       "      <td>0.168711</td>\n",
       "      <td>0.150024</td>\n",
       "      <td>0.138517</td>\n",
       "      <td>0.172464</td>\n",
       "      <td>0.088029</td>\n",
       "      <td>0.009669</td>\n",
       "      <td>0.047764</td>\n",
       "      <td>0.074712</td>\n",
       "      <td>0.112414</td>\n",
       "    </tr>\n",
       "    <tr>\n",
       "      <th>behavioral_large_gatherings</th>\n",
       "      <td>0.004539</td>\n",
       "      <td>0.255031</td>\n",
       "      <td>-0.048898</td>\n",
       "      <td>0.106287</td>\n",
       "      <td>0.227675</td>\n",
       "      <td>0.180907</td>\n",
       "      <td>0.195364</td>\n",
       "      <td>1.000000</td>\n",
       "      <td>0.584085</td>\n",
       "      <td>0.253683</td>\n",
       "      <td>...</td>\n",
       "      <td>0.052299</td>\n",
       "      <td>0.126463</td>\n",
       "      <td>0.185924</td>\n",
       "      <td>0.078491</td>\n",
       "      <td>0.132865</td>\n",
       "      <td>0.135446</td>\n",
       "      <td>-0.031938</td>\n",
       "      <td>-0.009449</td>\n",
       "      <td>0.017822</td>\n",
       "      <td>0.064025</td>\n",
       "    </tr>\n",
       "    <tr>\n",
       "      <th>behavioral_outside_home</th>\n",
       "      <td>0.009011</td>\n",
       "      <td>0.246424</td>\n",
       "      <td>-0.068219</td>\n",
       "      <td>0.127679</td>\n",
       "      <td>0.220348</td>\n",
       "      <td>0.163382</td>\n",
       "      <td>0.192619</td>\n",
       "      <td>0.584085</td>\n",
       "      <td>1.000000</td>\n",
       "      <td>0.267719</td>\n",
       "      <td>...</td>\n",
       "      <td>0.050748</td>\n",
       "      <td>0.125549</td>\n",
       "      <td>0.174834</td>\n",
       "      <td>0.067469</td>\n",
       "      <td>0.120237</td>\n",
       "      <td>0.138133</td>\n",
       "      <td>-0.027527</td>\n",
       "      <td>-0.009558</td>\n",
       "      <td>0.021768</td>\n",
       "      <td>0.053509</td>\n",
       "    </tr>\n",
       "    <tr>\n",
       "      <th>behavioral_touch_face</th>\n",
       "      <td>0.007575</td>\n",
       "      <td>0.248016</td>\n",
       "      <td>0.086162</td>\n",
       "      <td>0.070868</td>\n",
       "      <td>0.335335</td>\n",
       "      <td>0.104335</td>\n",
       "      <td>0.365064</td>\n",
       "      <td>0.253683</td>\n",
       "      <td>0.267719</td>\n",
       "      <td>1.000000</td>\n",
       "      <td>...</td>\n",
       "      <td>0.104126</td>\n",
       "      <td>0.146080</td>\n",
       "      <td>0.131772</td>\n",
       "      <td>0.105798</td>\n",
       "      <td>0.143735</td>\n",
       "      <td>0.090097</td>\n",
       "      <td>-0.000553</td>\n",
       "      <td>0.023606</td>\n",
       "      <td>0.071648</td>\n",
       "      <td>0.120228</td>\n",
       "    </tr>\n",
       "    <tr>\n",
       "      <th>doctor_recc_h1n1</th>\n",
       "      <td>-0.002072</td>\n",
       "      <td>0.150206</td>\n",
       "      <td>0.093829</td>\n",
       "      <td>0.051235</td>\n",
       "      <td>0.068145</td>\n",
       "      <td>0.084282</td>\n",
       "      <td>0.088729</td>\n",
       "      <td>0.082242</td>\n",
       "      <td>0.070346</td>\n",
       "      <td>0.088221</td>\n",
       "      <td>...</td>\n",
       "      <td>0.152305</td>\n",
       "      <td>0.262826</td>\n",
       "      <td>0.113111</td>\n",
       "      <td>0.107512</td>\n",
       "      <td>0.202320</td>\n",
       "      <td>0.057128</td>\n",
       "      <td>0.004112</td>\n",
       "      <td>0.029040</td>\n",
       "      <td>0.393890</td>\n",
       "      <td>0.198607</td>\n",
       "    </tr>\n",
       "    <tr>\n",
       "      <th>doctor_recc_seasonal</th>\n",
       "      <td>0.001500</td>\n",
       "      <td>0.135567</td>\n",
       "      <td>0.071920</td>\n",
       "      <td>0.030909</td>\n",
       "      <td>0.074088</td>\n",
       "      <td>0.069481</td>\n",
       "      <td>0.102044</td>\n",
       "      <td>0.093557</td>\n",
       "      <td>0.085622</td>\n",
       "      <td>0.100808</td>\n",
       "      <td>...</td>\n",
       "      <td>0.118614</td>\n",
       "      <td>0.168443</td>\n",
       "      <td>0.067178</td>\n",
       "      <td>0.180902</td>\n",
       "      <td>0.240087</td>\n",
       "      <td>0.025356</td>\n",
       "      <td>-0.040769</td>\n",
       "      <td>-0.048380</td>\n",
       "      <td>0.209864</td>\n",
       "      <td>0.369190</td>\n",
       "    </tr>\n",
       "    <tr>\n",
       "      <th>chronic_med_condition</th>\n",
       "      <td>0.005797</td>\n",
       "      <td>0.095162</td>\n",
       "      <td>-0.022602</td>\n",
       "      <td>0.008465</td>\n",
       "      <td>0.039435</td>\n",
       "      <td>0.068113</td>\n",
       "      <td>0.030260</td>\n",
       "      <td>0.104721</td>\n",
       "      <td>0.098858</td>\n",
       "      <td>0.028876</td>\n",
       "      <td>...</td>\n",
       "      <td>0.044145</td>\n",
       "      <td>0.121657</td>\n",
       "      <td>0.081943</td>\n",
       "      <td>0.091737</td>\n",
       "      <td>0.162061</td>\n",
       "      <td>0.052587</td>\n",
       "      <td>-0.071346</td>\n",
       "      <td>-0.108237</td>\n",
       "      <td>0.095207</td>\n",
       "      <td>0.170174</td>\n",
       "    </tr>\n",
       "    <tr>\n",
       "      <th>child_under_6_months</th>\n",
       "      <td>-0.004839</td>\n",
       "      <td>0.049574</td>\n",
       "      <td>0.021598</td>\n",
       "      <td>0.028788</td>\n",
       "      <td>-0.000414</td>\n",
       "      <td>0.039726</td>\n",
       "      <td>0.036188</td>\n",
       "      <td>0.021168</td>\n",
       "      <td>0.018195</td>\n",
       "      <td>0.026640</td>\n",
       "      <td>...</td>\n",
       "      <td>0.007094</td>\n",
       "      <td>0.086516</td>\n",
       "      <td>0.037212</td>\n",
       "      <td>0.003653</td>\n",
       "      <td>0.050267</td>\n",
       "      <td>0.037582</td>\n",
       "      <td>0.044828</td>\n",
       "      <td>0.099562</td>\n",
       "      <td>0.066962</td>\n",
       "      <td>0.012097</td>\n",
       "    </tr>\n",
       "    <tr>\n",
       "      <th>health_worker</th>\n",
       "      <td>-0.003149</td>\n",
       "      <td>0.033562</td>\n",
       "      <td>0.170252</td>\n",
       "      <td>0.009465</td>\n",
       "      <td>0.001180</td>\n",
       "      <td>0.069992</td>\n",
       "      <td>0.053761</td>\n",
       "      <td>-0.032319</td>\n",
       "      <td>-0.034619</td>\n",
       "      <td>0.067648</td>\n",
       "      <td>...</td>\n",
       "      <td>0.053581</td>\n",
       "      <td>0.123869</td>\n",
       "      <td>0.009015</td>\n",
       "      <td>0.030395</td>\n",
       "      <td>0.089142</td>\n",
       "      <td>-0.017893</td>\n",
       "      <td>0.013380</td>\n",
       "      <td>0.037698</td>\n",
       "      <td>0.169768</td>\n",
       "      <td>0.127311</td>\n",
       "    </tr>\n",
       "    <tr>\n",
       "      <th>health_insurance</th>\n",
       "      <td>-0.012603</td>\n",
       "      <td>-0.003655</td>\n",
       "      <td>0.119408</td>\n",
       "      <td>-0.063988</td>\n",
       "      <td>0.032662</td>\n",
       "      <td>-0.040257</td>\n",
       "      <td>0.031919</td>\n",
       "      <td>-0.059000</td>\n",
       "      <td>-0.061381</td>\n",
       "      <td>0.011024</td>\n",
       "      <td>...</td>\n",
       "      <td>0.058675</td>\n",
       "      <td>0.005766</td>\n",
       "      <td>-0.033314</td>\n",
       "      <td>0.091247</td>\n",
       "      <td>0.050232</td>\n",
       "      <td>-0.065886</td>\n",
       "      <td>-0.078697</td>\n",
       "      <td>-0.069402</td>\n",
       "      <td>0.121170</td>\n",
       "      <td>0.200858</td>\n",
       "    </tr>\n",
       "    <tr>\n",
       "      <th>opinion_h1n1_vacc_effective</th>\n",
       "      <td>0.005912</td>\n",
       "      <td>0.239604</td>\n",
       "      <td>0.121009</td>\n",
       "      <td>0.030211</td>\n",
       "      <td>0.112300</td>\n",
       "      <td>0.037651</td>\n",
       "      <td>0.136987</td>\n",
       "      <td>0.052299</td>\n",
       "      <td>0.050748</td>\n",
       "      <td>0.104126</td>\n",
       "      <td>...</td>\n",
       "      <td>1.000000</td>\n",
       "      <td>0.261304</td>\n",
       "      <td>0.062372</td>\n",
       "      <td>0.472467</td>\n",
       "      <td>0.258173</td>\n",
       "      <td>0.012491</td>\n",
       "      <td>0.010970</td>\n",
       "      <td>-0.015242</td>\n",
       "      <td>0.269347</td>\n",
       "      <td>0.205072</td>\n",
       "    </tr>\n",
       "    <tr>\n",
       "      <th>opinion_h1n1_risk</th>\n",
       "      <td>0.000958</td>\n",
       "      <td>0.377033</td>\n",
       "      <td>0.073086</td>\n",
       "      <td>0.105163</td>\n",
       "      <td>0.117851</td>\n",
       "      <td>0.131165</td>\n",
       "      <td>0.168711</td>\n",
       "      <td>0.126463</td>\n",
       "      <td>0.125549</td>\n",
       "      <td>0.146080</td>\n",
       "      <td>...</td>\n",
       "      <td>0.261304</td>\n",
       "      <td>1.000000</td>\n",
       "      <td>0.335062</td>\n",
       "      <td>0.224469</td>\n",
       "      <td>0.564208</td>\n",
       "      <td>0.198601</td>\n",
       "      <td>0.030181</td>\n",
       "      <td>0.095325</td>\n",
       "      <td>0.323265</td>\n",
       "      <td>0.216625</td>\n",
       "    </tr>\n",
       "    <tr>\n",
       "      <th>opinion_h1n1_sick_from_vacc</th>\n",
       "      <td>-0.002270</td>\n",
       "      <td>0.360070</td>\n",
       "      <td>-0.019501</td>\n",
       "      <td>0.079091</td>\n",
       "      <td>0.131405</td>\n",
       "      <td>0.107129</td>\n",
       "      <td>0.150024</td>\n",
       "      <td>0.185924</td>\n",
       "      <td>0.174834</td>\n",
       "      <td>0.131772</td>\n",
       "      <td>...</td>\n",
       "      <td>0.062372</td>\n",
       "      <td>0.335062</td>\n",
       "      <td>1.000000</td>\n",
       "      <td>0.078097</td>\n",
       "      <td>0.267013</td>\n",
       "      <td>0.491546</td>\n",
       "      <td>0.014769</td>\n",
       "      <td>0.071164</td>\n",
       "      <td>0.075091</td>\n",
       "      <td>0.027404</td>\n",
       "    </tr>\n",
       "    <tr>\n",
       "      <th>opinion_seas_vacc_effective</th>\n",
       "      <td>0.005935</td>\n",
       "      <td>0.235136</td>\n",
       "      <td>0.086103</td>\n",
       "      <td>0.015003</td>\n",
       "      <td>0.119554</td>\n",
       "      <td>0.041556</td>\n",
       "      <td>0.138517</td>\n",
       "      <td>0.078491</td>\n",
       "      <td>0.067469</td>\n",
       "      <td>0.105798</td>\n",
       "      <td>...</td>\n",
       "      <td>0.472467</td>\n",
       "      <td>0.224469</td>\n",
       "      <td>0.078097</td>\n",
       "      <td>1.000000</td>\n",
       "      <td>0.344800</td>\n",
       "      <td>-0.017340</td>\n",
       "      <td>-0.022579</td>\n",
       "      <td>-0.076503</td>\n",
       "      <td>0.179272</td>\n",
       "      <td>0.361875</td>\n",
       "    </tr>\n",
       "    <tr>\n",
       "      <th>opinion_seas_risk</th>\n",
       "      <td>-0.005291</td>\n",
       "      <td>0.333990</td>\n",
       "      <td>0.076825</td>\n",
       "      <td>0.085315</td>\n",
       "      <td>0.129504</td>\n",
       "      <td>0.110161</td>\n",
       "      <td>0.172464</td>\n",
       "      <td>0.132865</td>\n",
       "      <td>0.120237</td>\n",
       "      <td>0.143735</td>\n",
       "      <td>...</td>\n",
       "      <td>0.258173</td>\n",
       "      <td>0.564208</td>\n",
       "      <td>0.267013</td>\n",
       "      <td>0.344800</td>\n",
       "      <td>1.000000</td>\n",
       "      <td>0.200379</td>\n",
       "      <td>0.006111</td>\n",
       "      <td>0.025898</td>\n",
       "      <td>0.258571</td>\n",
       "      <td>0.390106</td>\n",
       "    </tr>\n",
       "    <tr>\n",
       "      <th>opinion_seas_sick_from_vacc</th>\n",
       "      <td>0.009563</td>\n",
       "      <td>0.225731</td>\n",
       "      <td>-0.062483</td>\n",
       "      <td>0.084305</td>\n",
       "      <td>0.082942</td>\n",
       "      <td>0.090009</td>\n",
       "      <td>0.088029</td>\n",
       "      <td>0.135446</td>\n",
       "      <td>0.138133</td>\n",
       "      <td>0.090097</td>\n",
       "      <td>...</td>\n",
       "      <td>0.012491</td>\n",
       "      <td>0.198601</td>\n",
       "      <td>0.491546</td>\n",
       "      <td>-0.017340</td>\n",
       "      <td>0.200379</td>\n",
       "      <td>1.000000</td>\n",
       "      <td>0.022925</td>\n",
       "      <td>0.057286</td>\n",
       "      <td>0.008360</td>\n",
       "      <td>-0.061510</td>\n",
       "    </tr>\n",
       "    <tr>\n",
       "      <th>household_adults</th>\n",
       "      <td>0.000187</td>\n",
       "      <td>-0.015658</td>\n",
       "      <td>0.024874</td>\n",
       "      <td>0.044900</td>\n",
       "      <td>0.019122</td>\n",
       "      <td>0.013991</td>\n",
       "      <td>0.009669</td>\n",
       "      <td>-0.031938</td>\n",
       "      <td>-0.027527</td>\n",
       "      <td>-0.000553</td>\n",
       "      <td>...</td>\n",
       "      <td>0.010970</td>\n",
       "      <td>0.030181</td>\n",
       "      <td>0.014769</td>\n",
       "      <td>-0.022579</td>\n",
       "      <td>0.006111</td>\n",
       "      <td>0.022925</td>\n",
       "      <td>1.000000</td>\n",
       "      <td>0.189571</td>\n",
       "      <td>0.007545</td>\n",
       "      <td>-0.064840</td>\n",
       "    </tr>\n",
       "    <tr>\n",
       "      <th>household_children</th>\n",
       "      <td>-0.003726</td>\n",
       "      <td>0.050525</td>\n",
       "      <td>0.050583</td>\n",
       "      <td>0.084822</td>\n",
       "      <td>0.040328</td>\n",
       "      <td>0.005826</td>\n",
       "      <td>0.047764</td>\n",
       "      <td>-0.009449</td>\n",
       "      <td>-0.009558</td>\n",
       "      <td>0.023606</td>\n",
       "      <td>...</td>\n",
       "      <td>-0.015242</td>\n",
       "      <td>0.095325</td>\n",
       "      <td>0.071164</td>\n",
       "      <td>-0.076503</td>\n",
       "      <td>0.025898</td>\n",
       "      <td>0.057286</td>\n",
       "      <td>0.189571</td>\n",
       "      <td>1.000000</td>\n",
       "      <td>-0.003320</td>\n",
       "      <td>-0.114614</td>\n",
       "    </tr>\n",
       "    <tr>\n",
       "      <th>h1n1_vaccine</th>\n",
       "      <td>-0.003280</td>\n",
       "      <td>0.121929</td>\n",
       "      <td>0.117951</td>\n",
       "      <td>0.040608</td>\n",
       "      <td>0.047690</td>\n",
       "      <td>0.070498</td>\n",
       "      <td>0.074712</td>\n",
       "      <td>0.017822</td>\n",
       "      <td>0.021768</td>\n",
       "      <td>0.071648</td>\n",
       "      <td>...</td>\n",
       "      <td>0.269347</td>\n",
       "      <td>0.323265</td>\n",
       "      <td>0.075091</td>\n",
       "      <td>0.179272</td>\n",
       "      <td>0.258571</td>\n",
       "      <td>0.008360</td>\n",
       "      <td>0.007545</td>\n",
       "      <td>-0.003320</td>\n",
       "      <td>1.000000</td>\n",
       "      <td>0.377143</td>\n",
       "    </tr>\n",
       "    <tr>\n",
       "      <th>seasonal_vaccine</th>\n",
       "      <td>-0.004652</td>\n",
       "      <td>0.154828</td>\n",
       "      <td>0.120152</td>\n",
       "      <td>0.006277</td>\n",
       "      <td>0.076395</td>\n",
       "      <td>0.050083</td>\n",
       "      <td>0.112414</td>\n",
       "      <td>0.064025</td>\n",
       "      <td>0.053509</td>\n",
       "      <td>0.120228</td>\n",
       "      <td>...</td>\n",
       "      <td>0.205072</td>\n",
       "      <td>0.216625</td>\n",
       "      <td>0.027404</td>\n",
       "      <td>0.361875</td>\n",
       "      <td>0.390106</td>\n",
       "      <td>-0.061510</td>\n",
       "      <td>-0.064840</td>\n",
       "      <td>-0.114614</td>\n",
       "      <td>0.377143</td>\n",
       "      <td>1.000000</td>\n",
       "    </tr>\n",
       "  </tbody>\n",
       "</table>\n",
       "<p>26 rows × 26 columns</p>\n",
       "</div>"
      ],
      "text/plain": [
       "                             respondent_id  h1n1_concern  h1n1_knowledge  \\\n",
       "respondent_id                     1.000000      0.017839        0.003425   \n",
       "h1n1_concern                      0.017839      1.000000        0.062522   \n",
       "h1n1_knowledge                    0.003425      0.062522        1.000000   \n",
       "behavioral_antiviral_meds        -0.008475      0.090301       -0.010836   \n",
       "behavioral_avoidance              0.009638      0.233713        0.088839   \n",
       "behavioral_face_mask             -0.006644      0.156032        0.030050   \n",
       "behavioral_wash_hands             0.011105      0.293565        0.089785   \n",
       "behavioral_large_gatherings       0.004539      0.255031       -0.048898   \n",
       "behavioral_outside_home           0.009011      0.246424       -0.068219   \n",
       "behavioral_touch_face             0.007575      0.248016        0.086162   \n",
       "doctor_recc_h1n1                 -0.002072      0.150206        0.093829   \n",
       "doctor_recc_seasonal              0.001500      0.135567        0.071920   \n",
       "chronic_med_condition             0.005797      0.095162       -0.022602   \n",
       "child_under_6_months             -0.004839      0.049574        0.021598   \n",
       "health_worker                    -0.003149      0.033562        0.170252   \n",
       "health_insurance                 -0.012603     -0.003655        0.119408   \n",
       "opinion_h1n1_vacc_effective       0.005912      0.239604        0.121009   \n",
       "opinion_h1n1_risk                 0.000958      0.377033        0.073086   \n",
       "opinion_h1n1_sick_from_vacc      -0.002270      0.360070       -0.019501   \n",
       "opinion_seas_vacc_effective       0.005935      0.235136        0.086103   \n",
       "opinion_seas_risk                -0.005291      0.333990        0.076825   \n",
       "opinion_seas_sick_from_vacc       0.009563      0.225731       -0.062483   \n",
       "household_adults                  0.000187     -0.015658        0.024874   \n",
       "household_children               -0.003726      0.050525        0.050583   \n",
       "h1n1_vaccine                     -0.003280      0.121929        0.117951   \n",
       "seasonal_vaccine                 -0.004652      0.154828        0.120152   \n",
       "\n",
       "                             behavioral_antiviral_meds  behavioral_avoidance  \\\n",
       "respondent_id                                -0.008475              0.009638   \n",
       "h1n1_concern                                  0.090301              0.233713   \n",
       "h1n1_knowledge                               -0.010836              0.088839   \n",
       "behavioral_antiviral_meds                     1.000000              0.049247   \n",
       "behavioral_avoidance                          0.049247              1.000000   \n",
       "behavioral_face_mask                          0.146261              0.064946   \n",
       "behavioral_wash_hands                         0.064119              0.338130   \n",
       "behavioral_large_gatherings                   0.106287              0.227675   \n",
       "behavioral_outside_home                       0.127679              0.220348   \n",
       "behavioral_touch_face                         0.070868              0.335335   \n",
       "doctor_recc_h1n1                              0.051235              0.068145   \n",
       "doctor_recc_seasonal                          0.030909              0.074088   \n",
       "chronic_med_condition                         0.008465              0.039435   \n",
       "child_under_6_months                          0.028788             -0.000414   \n",
       "health_worker                                 0.009465              0.001180   \n",
       "health_insurance                             -0.063988              0.032662   \n",
       "opinion_h1n1_vacc_effective                   0.030211              0.112300   \n",
       "opinion_h1n1_risk                             0.105163              0.117851   \n",
       "opinion_h1n1_sick_from_vacc                   0.079091              0.131405   \n",
       "opinion_seas_vacc_effective                   0.015003              0.119554   \n",
       "opinion_seas_risk                             0.085315              0.129504   \n",
       "opinion_seas_sick_from_vacc                   0.084305              0.082942   \n",
       "household_adults                              0.044900              0.019122   \n",
       "household_children                            0.084822              0.040328   \n",
       "h1n1_vaccine                                  0.040608              0.047690   \n",
       "seasonal_vaccine                              0.006277              0.076395   \n",
       "\n",
       "                             behavioral_face_mask  behavioral_wash_hands  \\\n",
       "respondent_id                           -0.006644               0.011105   \n",
       "h1n1_concern                             0.156032               0.293565   \n",
       "h1n1_knowledge                           0.030050               0.089785   \n",
       "behavioral_antiviral_meds                0.146261               0.064119   \n",
       "behavioral_avoidance                     0.064946               0.338130   \n",
       "behavioral_face_mask                     1.000000               0.083363   \n",
       "behavioral_wash_hands                    0.083363               1.000000   \n",
       "behavioral_large_gatherings              0.180907               0.195364   \n",
       "behavioral_outside_home                  0.163382               0.192619   \n",
       "behavioral_touch_face                    0.104335               0.365064   \n",
       "doctor_recc_h1n1                         0.084282               0.088729   \n",
       "doctor_recc_seasonal                     0.069481               0.102044   \n",
       "chronic_med_condition                    0.068113               0.030260   \n",
       "child_under_6_months                     0.039726               0.036188   \n",
       "health_worker                            0.069992               0.053761   \n",
       "health_insurance                        -0.040257               0.031919   \n",
       "opinion_h1n1_vacc_effective              0.037651               0.136987   \n",
       "opinion_h1n1_risk                        0.131165               0.168711   \n",
       "opinion_h1n1_sick_from_vacc              0.107129               0.150024   \n",
       "opinion_seas_vacc_effective              0.041556               0.138517   \n",
       "opinion_seas_risk                        0.110161               0.172464   \n",
       "opinion_seas_sick_from_vacc              0.090009               0.088029   \n",
       "household_adults                         0.013991               0.009669   \n",
       "household_children                       0.005826               0.047764   \n",
       "h1n1_vaccine                             0.070498               0.074712   \n",
       "seasonal_vaccine                         0.050083               0.112414   \n",
       "\n",
       "                             behavioral_large_gatherings  \\\n",
       "respondent_id                                   0.004539   \n",
       "h1n1_concern                                    0.255031   \n",
       "h1n1_knowledge                                 -0.048898   \n",
       "behavioral_antiviral_meds                       0.106287   \n",
       "behavioral_avoidance                            0.227675   \n",
       "behavioral_face_mask                            0.180907   \n",
       "behavioral_wash_hands                           0.195364   \n",
       "behavioral_large_gatherings                     1.000000   \n",
       "behavioral_outside_home                         0.584085   \n",
       "behavioral_touch_face                           0.253683   \n",
       "doctor_recc_h1n1                                0.082242   \n",
       "doctor_recc_seasonal                            0.093557   \n",
       "chronic_med_condition                           0.104721   \n",
       "child_under_6_months                            0.021168   \n",
       "health_worker                                  -0.032319   \n",
       "health_insurance                               -0.059000   \n",
       "opinion_h1n1_vacc_effective                     0.052299   \n",
       "opinion_h1n1_risk                               0.126463   \n",
       "opinion_h1n1_sick_from_vacc                     0.185924   \n",
       "opinion_seas_vacc_effective                     0.078491   \n",
       "opinion_seas_risk                               0.132865   \n",
       "opinion_seas_sick_from_vacc                     0.135446   \n",
       "household_adults                               -0.031938   \n",
       "household_children                             -0.009449   \n",
       "h1n1_vaccine                                    0.017822   \n",
       "seasonal_vaccine                                0.064025   \n",
       "\n",
       "                             behavioral_outside_home  behavioral_touch_face  \\\n",
       "respondent_id                               0.009011               0.007575   \n",
       "h1n1_concern                                0.246424               0.248016   \n",
       "h1n1_knowledge                             -0.068219               0.086162   \n",
       "behavioral_antiviral_meds                   0.127679               0.070868   \n",
       "behavioral_avoidance                        0.220348               0.335335   \n",
       "behavioral_face_mask                        0.163382               0.104335   \n",
       "behavioral_wash_hands                       0.192619               0.365064   \n",
       "behavioral_large_gatherings                 0.584085               0.253683   \n",
       "behavioral_outside_home                     1.000000               0.267719   \n",
       "behavioral_touch_face                       0.267719               1.000000   \n",
       "doctor_recc_h1n1                            0.070346               0.088221   \n",
       "doctor_recc_seasonal                        0.085622               0.100808   \n",
       "chronic_med_condition                       0.098858               0.028876   \n",
       "child_under_6_months                        0.018195               0.026640   \n",
       "health_worker                              -0.034619               0.067648   \n",
       "health_insurance                           -0.061381               0.011024   \n",
       "opinion_h1n1_vacc_effective                 0.050748               0.104126   \n",
       "opinion_h1n1_risk                           0.125549               0.146080   \n",
       "opinion_h1n1_sick_from_vacc                 0.174834               0.131772   \n",
       "opinion_seas_vacc_effective                 0.067469               0.105798   \n",
       "opinion_seas_risk                           0.120237               0.143735   \n",
       "opinion_seas_sick_from_vacc                 0.138133               0.090097   \n",
       "household_adults                           -0.027527              -0.000553   \n",
       "household_children                         -0.009558               0.023606   \n",
       "h1n1_vaccine                                0.021768               0.071648   \n",
       "seasonal_vaccine                            0.053509               0.120228   \n",
       "\n",
       "                             ...  opinion_h1n1_vacc_effective  \\\n",
       "respondent_id                ...                     0.005912   \n",
       "h1n1_concern                 ...                     0.239604   \n",
       "h1n1_knowledge               ...                     0.121009   \n",
       "behavioral_antiviral_meds    ...                     0.030211   \n",
       "behavioral_avoidance         ...                     0.112300   \n",
       "behavioral_face_mask         ...                     0.037651   \n",
       "behavioral_wash_hands        ...                     0.136987   \n",
       "behavioral_large_gatherings  ...                     0.052299   \n",
       "behavioral_outside_home      ...                     0.050748   \n",
       "behavioral_touch_face        ...                     0.104126   \n",
       "doctor_recc_h1n1             ...                     0.152305   \n",
       "doctor_recc_seasonal         ...                     0.118614   \n",
       "chronic_med_condition        ...                     0.044145   \n",
       "child_under_6_months         ...                     0.007094   \n",
       "health_worker                ...                     0.053581   \n",
       "health_insurance             ...                     0.058675   \n",
       "opinion_h1n1_vacc_effective  ...                     1.000000   \n",
       "opinion_h1n1_risk            ...                     0.261304   \n",
       "opinion_h1n1_sick_from_vacc  ...                     0.062372   \n",
       "opinion_seas_vacc_effective  ...                     0.472467   \n",
       "opinion_seas_risk            ...                     0.258173   \n",
       "opinion_seas_sick_from_vacc  ...                     0.012491   \n",
       "household_adults             ...                     0.010970   \n",
       "household_children           ...                    -0.015242   \n",
       "h1n1_vaccine                 ...                     0.269347   \n",
       "seasonal_vaccine             ...                     0.205072   \n",
       "\n",
       "                             opinion_h1n1_risk  opinion_h1n1_sick_from_vacc  \\\n",
       "respondent_id                         0.000958                    -0.002270   \n",
       "h1n1_concern                          0.377033                     0.360070   \n",
       "h1n1_knowledge                        0.073086                    -0.019501   \n",
       "behavioral_antiviral_meds             0.105163                     0.079091   \n",
       "behavioral_avoidance                  0.117851                     0.131405   \n",
       "behavioral_face_mask                  0.131165                     0.107129   \n",
       "behavioral_wash_hands                 0.168711                     0.150024   \n",
       "behavioral_large_gatherings           0.126463                     0.185924   \n",
       "behavioral_outside_home               0.125549                     0.174834   \n",
       "behavioral_touch_face                 0.146080                     0.131772   \n",
       "doctor_recc_h1n1                      0.262826                     0.113111   \n",
       "doctor_recc_seasonal                  0.168443                     0.067178   \n",
       "chronic_med_condition                 0.121657                     0.081943   \n",
       "child_under_6_months                  0.086516                     0.037212   \n",
       "health_worker                         0.123869                     0.009015   \n",
       "health_insurance                      0.005766                    -0.033314   \n",
       "opinion_h1n1_vacc_effective           0.261304                     0.062372   \n",
       "opinion_h1n1_risk                     1.000000                     0.335062   \n",
       "opinion_h1n1_sick_from_vacc           0.335062                     1.000000   \n",
       "opinion_seas_vacc_effective           0.224469                     0.078097   \n",
       "opinion_seas_risk                     0.564208                     0.267013   \n",
       "opinion_seas_sick_from_vacc           0.198601                     0.491546   \n",
       "household_adults                      0.030181                     0.014769   \n",
       "household_children                    0.095325                     0.071164   \n",
       "h1n1_vaccine                          0.323265                     0.075091   \n",
       "seasonal_vaccine                      0.216625                     0.027404   \n",
       "\n",
       "                             opinion_seas_vacc_effective  opinion_seas_risk  \\\n",
       "respondent_id                                   0.005935          -0.005291   \n",
       "h1n1_concern                                    0.235136           0.333990   \n",
       "h1n1_knowledge                                  0.086103           0.076825   \n",
       "behavioral_antiviral_meds                       0.015003           0.085315   \n",
       "behavioral_avoidance                            0.119554           0.129504   \n",
       "behavioral_face_mask                            0.041556           0.110161   \n",
       "behavioral_wash_hands                           0.138517           0.172464   \n",
       "behavioral_large_gatherings                     0.078491           0.132865   \n",
       "behavioral_outside_home                         0.067469           0.120237   \n",
       "behavioral_touch_face                           0.105798           0.143735   \n",
       "doctor_recc_h1n1                                0.107512           0.202320   \n",
       "doctor_recc_seasonal                            0.180902           0.240087   \n",
       "chronic_med_condition                           0.091737           0.162061   \n",
       "child_under_6_months                            0.003653           0.050267   \n",
       "health_worker                                   0.030395           0.089142   \n",
       "health_insurance                                0.091247           0.050232   \n",
       "opinion_h1n1_vacc_effective                     0.472467           0.258173   \n",
       "opinion_h1n1_risk                               0.224469           0.564208   \n",
       "opinion_h1n1_sick_from_vacc                     0.078097           0.267013   \n",
       "opinion_seas_vacc_effective                     1.000000           0.344800   \n",
       "opinion_seas_risk                               0.344800           1.000000   \n",
       "opinion_seas_sick_from_vacc                    -0.017340           0.200379   \n",
       "household_adults                               -0.022579           0.006111   \n",
       "household_children                             -0.076503           0.025898   \n",
       "h1n1_vaccine                                    0.179272           0.258571   \n",
       "seasonal_vaccine                                0.361875           0.390106   \n",
       "\n",
       "                             opinion_seas_sick_from_vacc  household_adults  \\\n",
       "respondent_id                                   0.009563          0.000187   \n",
       "h1n1_concern                                    0.225731         -0.015658   \n",
       "h1n1_knowledge                                 -0.062483          0.024874   \n",
       "behavioral_antiviral_meds                       0.084305          0.044900   \n",
       "behavioral_avoidance                            0.082942          0.019122   \n",
       "behavioral_face_mask                            0.090009          0.013991   \n",
       "behavioral_wash_hands                           0.088029          0.009669   \n",
       "behavioral_large_gatherings                     0.135446         -0.031938   \n",
       "behavioral_outside_home                         0.138133         -0.027527   \n",
       "behavioral_touch_face                           0.090097         -0.000553   \n",
       "doctor_recc_h1n1                                0.057128          0.004112   \n",
       "doctor_recc_seasonal                            0.025356         -0.040769   \n",
       "chronic_med_condition                           0.052587         -0.071346   \n",
       "child_under_6_months                            0.037582          0.044828   \n",
       "health_worker                                  -0.017893          0.013380   \n",
       "health_insurance                               -0.065886         -0.078697   \n",
       "opinion_h1n1_vacc_effective                     0.012491          0.010970   \n",
       "opinion_h1n1_risk                               0.198601          0.030181   \n",
       "opinion_h1n1_sick_from_vacc                     0.491546          0.014769   \n",
       "opinion_seas_vacc_effective                    -0.017340         -0.022579   \n",
       "opinion_seas_risk                               0.200379          0.006111   \n",
       "opinion_seas_sick_from_vacc                     1.000000          0.022925   \n",
       "household_adults                                0.022925          1.000000   \n",
       "household_children                              0.057286          0.189571   \n",
       "h1n1_vaccine                                    0.008360          0.007545   \n",
       "seasonal_vaccine                               -0.061510         -0.064840   \n",
       "\n",
       "                             household_children  h1n1_vaccine  \\\n",
       "respondent_id                         -0.003726     -0.003280   \n",
       "h1n1_concern                           0.050525      0.121929   \n",
       "h1n1_knowledge                         0.050583      0.117951   \n",
       "behavioral_antiviral_meds              0.084822      0.040608   \n",
       "behavioral_avoidance                   0.040328      0.047690   \n",
       "behavioral_face_mask                   0.005826      0.070498   \n",
       "behavioral_wash_hands                  0.047764      0.074712   \n",
       "behavioral_large_gatherings           -0.009449      0.017822   \n",
       "behavioral_outside_home               -0.009558      0.021768   \n",
       "behavioral_touch_face                  0.023606      0.071648   \n",
       "doctor_recc_h1n1                       0.029040      0.393890   \n",
       "doctor_recc_seasonal                  -0.048380      0.209864   \n",
       "chronic_med_condition                 -0.108237      0.095207   \n",
       "child_under_6_months                   0.099562      0.066962   \n",
       "health_worker                          0.037698      0.169768   \n",
       "health_insurance                      -0.069402      0.121170   \n",
       "opinion_h1n1_vacc_effective           -0.015242      0.269347   \n",
       "opinion_h1n1_risk                      0.095325      0.323265   \n",
       "opinion_h1n1_sick_from_vacc            0.071164      0.075091   \n",
       "opinion_seas_vacc_effective           -0.076503      0.179272   \n",
       "opinion_seas_risk                      0.025898      0.258571   \n",
       "opinion_seas_sick_from_vacc            0.057286      0.008360   \n",
       "household_adults                       0.189571      0.007545   \n",
       "household_children                     1.000000     -0.003320   \n",
       "h1n1_vaccine                          -0.003320      1.000000   \n",
       "seasonal_vaccine                      -0.114614      0.377143   \n",
       "\n",
       "                             seasonal_vaccine  \n",
       "respondent_id                       -0.004652  \n",
       "h1n1_concern                         0.154828  \n",
       "h1n1_knowledge                       0.120152  \n",
       "behavioral_antiviral_meds            0.006277  \n",
       "behavioral_avoidance                 0.076395  \n",
       "behavioral_face_mask                 0.050083  \n",
       "behavioral_wash_hands                0.112414  \n",
       "behavioral_large_gatherings          0.064025  \n",
       "behavioral_outside_home              0.053509  \n",
       "behavioral_touch_face                0.120228  \n",
       "doctor_recc_h1n1                     0.198607  \n",
       "doctor_recc_seasonal                 0.369190  \n",
       "chronic_med_condition                0.170174  \n",
       "child_under_6_months                 0.012097  \n",
       "health_worker                        0.127311  \n",
       "health_insurance                     0.200858  \n",
       "opinion_h1n1_vacc_effective          0.205072  \n",
       "opinion_h1n1_risk                    0.216625  \n",
       "opinion_h1n1_sick_from_vacc          0.027404  \n",
       "opinion_seas_vacc_effective          0.361875  \n",
       "opinion_seas_risk                    0.390106  \n",
       "opinion_seas_sick_from_vacc         -0.061510  \n",
       "household_adults                    -0.064840  \n",
       "household_children                  -0.114614  \n",
       "h1n1_vaccine                         0.377143  \n",
       "seasonal_vaccine                     1.000000  \n",
       "\n",
       "[26 rows x 26 columns]"
      ]
     },
     "execution_count": 6,
     "metadata": {},
     "output_type": "execute_result"
    }
   ],
   "source": [
    "#Check for correlations to see if any obvious relationships leap out.\n",
    "flu_df.corr()"
   ]
  },
  {
   "cell_type": "markdown",
   "metadata": {},
   "source": [
    "No single feature has a high correlation with uptake on the seasonal flu vaccine. The four features with the strongest correlation are having gotten the h1n1 vaccine, perceived risk of the flu, perceived effectiveness of the flu vaccine, and having a doctor recommend the flu vaccine. These all intuitively make sense as factors that would make it more likely a person would get their flu shot. We will revisit these features later, but for now, we note that all the even the highest correlations are fairly low, so we will need to look for more complex relationships in our data."
   ]
  },
  {
   "cell_type": "code",
   "execution_count": 7,
   "metadata": {},
   "outputs": [],
   "source": [
    "#Prepare data for modeling.\n",
    "X=flu_df.drop('seasonal_vaccine', axis=1)\n",
    "y=flu_df['seasonal_vaccine']"
   ]
  },
  {
   "cell_type": "code",
   "execution_count": 8,
   "metadata": {},
   "outputs": [
    {
     "name": "stdout",
     "output_type": "stream",
     "text": [
      "Index(['respondent_id', 'h1n1_concern', 'h1n1_knowledge',\n",
      "       'behavioral_antiviral_meds', 'behavioral_avoidance',\n",
      "       'behavioral_face_mask', 'behavioral_wash_hands',\n",
      "       'behavioral_large_gatherings', 'behavioral_outside_home',\n",
      "       'behavioral_touch_face', 'doctor_recc_h1n1', 'doctor_recc_seasonal',\n",
      "       'chronic_med_condition', 'child_under_6_months', 'health_worker',\n",
      "       'health_insurance', 'opinion_h1n1_vacc_effective', 'opinion_h1n1_risk',\n",
      "       'opinion_h1n1_sick_from_vacc', 'opinion_seas_vacc_effective',\n",
      "       'opinion_seas_risk', 'opinion_seas_sick_from_vacc', 'age_group',\n",
      "       'education', 'race', 'sex', 'income_poverty', 'marital_status',\n",
      "       'rent_or_own', 'employment_status', 'hhs_geo_region', 'census_msa',\n",
      "       'household_adults', 'household_children', 'employment_industry',\n",
      "       'employment_occupation', 'h1n1_vaccine'],\n",
      "      dtype='object')\n"
     ]
    }
   ],
   "source": [
    "print(X.columns\n",
    ")"
   ]
  },
  {
   "cell_type": "code",
   "execution_count": 9,
   "metadata": {},
   "outputs": [],
   "source": [
    "#Split our data for training and testing.\n",
    "X_train, X_test, y_train, y_test = train_test_split(X, y, test_size=.25, random_state=12)"
   ]
  },
  {
   "cell_type": "code",
   "execution_count": 10,
   "metadata": {},
   "outputs": [],
   "source": [
    "#Some of our features are binary. Others are categorical. And many are numbered scales. We need to treat these different\n",
    "#types of features during preprocessing, so we sort them.\n",
    "numbers=['h1n1_concern', 'h1n1_knowledge','opinion_h1n1_vacc_effective', 'opinion_h1n1_risk', 'opinion_h1n1_sick_from_vacc', 'opinion_seas_vacc_effective', 'opinion_seas_risk', 'opinion_seas_sick_from_vacc', 'household_adults', 'household_children']\n",
    "onehots=['race', 'sex',  'marital_status', 'income_poverty', 'age_group', 'education', 'rent_or_own','employment_status', 'hhs_geo_region', 'census_msa', 'employment_industry', 'employment_occupation']\n",
    "binary= ['behavioral_antiviral_meds', 'behavioral_avoidance', 'behavioral_face_mask', 'behavioral_wash_hands', 'behavioral_large_gatherings', 'behavioral_outside_home', 'behavioral_touch_face', 'doctor_recc_h1n1', 'doctor_recc_seasonal', 'chronic_med_condition', 'child_under_6_months', 'health_worker', 'health_insurance', 'h1n1_vaccine']"
   ]
  },
  {
   "cell_type": "code",
   "execution_count": 11,
   "metadata": {},
   "outputs": [],
   "source": [
    "#Features with numerical scales will have null values replaced with the most frequent response, and then be scaled.\n",
    "numbers_pipeline = Pipeline(steps=[\n",
    "    ('impute_nums', SimpleImputer(strategy='most_frequent', add_indicator=True)),\n",
    "    ('num', StandardScaler())])"
   ]
  },
  {
   "cell_type": "code",
   "execution_count": 12,
   "metadata": {},
   "outputs": [],
   "source": [
    "#Categorical variables will have null values replaced with the most frequent response before going through one hot encoding.\n",
    "onehots_pipeline = Pipeline(steps=[\n",
    "    ('impute_ohe', SimpleImputer(strategy='most_frequent', add_indicator=True)),\n",
    "    ('ohe', OneHotEncoder(handle_unknown='ignore'))])"
   ]
  },
  {
   "cell_type": "code",
   "execution_count": 13,
   "metadata": {},
   "outputs": [],
   "source": [
    "#Binary features only need to have nulls dealt with. Again, nulls will be replaced using the \"most_frequent\" strategy.\n",
    "binary_pipeline = Pipeline(steps=[('impute_bin', SimpleImputer(strategy='most_frequent', add_indicator=True))])"
   ]
  },
  {
   "cell_type": "code",
   "execution_count": 14,
   "metadata": {},
   "outputs": [],
   "source": [
    "#Set up a column transformer that will process all of our data at once. This allows us to do it with our training data\n",
    "#now and our testing data later, avoiding any concerns of data leakage.\n",
    "col_tr = ColumnTransformer(transformers=[('num', numbers_pipeline, numbers),\n",
    "                                        ('ohe', onehots_pipeline, onehots),\n",
    "                                        ('bin', binary_pipeline, binary)],\n",
    "                          remainder='drop', sparse_threshold=0)"
   ]
  },
  {
   "cell_type": "markdown",
   "metadata": {},
   "source": [
    "# Dummy Model"
   ]
  },
  {
   "cell_type": "markdown",
   "metadata": {},
   "source": [
    "We begin by creating a dummy model that always predicts that a person did not receive their seasonal flu vaccine. "
   ]
  },
  {
   "cell_type": "code",
   "execution_count": 15,
   "metadata": {},
   "outputs": [
    {
     "data": {
      "text/plain": [
       "DummyClassifier(strategy='most_frequent')"
      ]
     },
     "execution_count": 15,
     "metadata": {},
     "output_type": "execute_result"
    }
   ],
   "source": [
    "dummy = DummyClassifier(strategy='most_frequent')\n",
    "dummy.fit(X_train, y_train)"
   ]
  },
  {
   "cell_type": "code",
   "execution_count": 16,
   "metadata": {
    "scrolled": true
   },
   "outputs": [
    {
     "data": {
      "text/plain": [
       "0.5326510234648028"
      ]
     },
     "execution_count": 16,
     "metadata": {},
     "output_type": "execute_result"
    }
   ],
   "source": [
    "dummy_accuracy = dummy.score(X_train, y_train)\n",
    "dummy_accuracy"
   ]
  },
  {
   "cell_type": "markdown",
   "metadata": {},
   "source": [
    "Our ultimate measure of performance will be precision, but a model that always predicts the negative does not yield a precision score, as the denominator of the precision score is the number of positive predictions. Since precision is not available for our dummy model, we'll go with accuracy. Our baseline model gets its predictions right about 53% of the time."
   ]
  },
  {
   "cell_type": "markdown",
   "metadata": {},
   "source": [
    "# Decision Tree"
   ]
  },
  {
   "cell_type": "code",
   "execution_count": 17,
   "metadata": {},
   "outputs": [],
   "source": [
    "#We create a simple decision tree model, starting with a pipeline\n",
    "tree_pipe = Pipeline(steps=[('ct', col_tr), \n",
    "                           ('dtree', DecisionTreeClassifier(random_state=12))])"
   ]
  },
  {
   "cell_type": "code",
   "execution_count": 18,
   "metadata": {
    "scrolled": true
   },
   "outputs": [
    {
     "data": {
      "text/plain": [
       "Pipeline(steps=[('ct',\n",
       "                 ColumnTransformer(sparse_threshold=0,\n",
       "                                   transformers=[('num',\n",
       "                                                  Pipeline(steps=[('impute_nums',\n",
       "                                                                   SimpleImputer(add_indicator=True,\n",
       "                                                                                 strategy='most_frequent')),\n",
       "                                                                  ('num',\n",
       "                                                                   StandardScaler())]),\n",
       "                                                  ['h1n1_concern',\n",
       "                                                   'h1n1_knowledge',\n",
       "                                                   'opinion_h1n1_vacc_effective',\n",
       "                                                   'opinion_h1n1_risk',\n",
       "                                                   'opinion_h1n1_sick_from_vacc',\n",
       "                                                   'opinion_seas_vacc_effective',\n",
       "                                                   'opinion_...\n",
       "                                                  ['behavioral_antiviral_meds',\n",
       "                                                   'behavioral_avoidance',\n",
       "                                                   'behavioral_face_mask',\n",
       "                                                   'behavioral_wash_hands',\n",
       "                                                   'behavioral_large_gatherings',\n",
       "                                                   'behavioral_outside_home',\n",
       "                                                   'behavioral_touch_face',\n",
       "                                                   'doctor_recc_h1n1',\n",
       "                                                   'doctor_recc_seasonal',\n",
       "                                                   'chronic_med_condition',\n",
       "                                                   'child_under_6_months',\n",
       "                                                   'health_worker',\n",
       "                                                   'health_insurance',\n",
       "                                                   'h1n1_vaccine'])])),\n",
       "                ('dtree', DecisionTreeClassifier(random_state=12))])"
      ]
     },
     "execution_count": 18,
     "metadata": {},
     "output_type": "execute_result"
    }
   ],
   "source": [
    "tree_pipe.fit(X_train, y_train)"
   ]
  },
  {
   "cell_type": "code",
   "execution_count": 19,
   "metadata": {},
   "outputs": [
    {
     "data": {
      "text/plain": [
       "{'fit_time': array([0.63018227, 0.622931  , 0.62195921, 0.64089608, 0.62665796]),\n",
       " 'score_time': array([0.01820278, 0.01660085, 0.01637292, 0.02148581, 0.01641083]),\n",
       " 'test_score': array([0.71018472, 0.70968547, 0.72241638, 0.71867199, 0.71767349]),\n",
       " 'train_score': array([1., 1., 1., 1., 1.])}"
      ]
     },
     "execution_count": 19,
     "metadata": {},
     "output_type": "execute_result"
    }
   ],
   "source": [
    "cv_results = cross_validate(estimator=tree_pipe, X=X_train, y=y_train, cv=5,\n",
    "                            return_train_score=True)\n",
    "cv_results"
   ]
  },
  {
   "cell_type": "code",
   "execution_count": 20,
   "metadata": {},
   "outputs": [],
   "source": [
    "tree_y_train = tree_pipe.predict(X_train)"
   ]
  },
  {
   "cell_type": "code",
   "execution_count": 21,
   "metadata": {},
   "outputs": [
    {
     "name": "stdout",
     "output_type": "stream",
     "text": [
      "1.0\n"
     ]
    }
   ],
   "source": [
    "print(precision_score(y_train, tree_y_train))"
   ]
  },
  {
   "cell_type": "markdown",
   "metadata": {},
   "source": [
    "Our model is already much better than our baseline, but it's very overfit. We'll do a grid search to see what our best combination of hyperparameters is."
   ]
  },
  {
   "cell_type": "code",
   "execution_count": 22,
   "metadata": {},
   "outputs": [
    {
     "name": "stdout",
     "output_type": "stream",
     "text": [
      "{'dtree__max_depth': 6, 'dtree__min_samples_leaf': 1, 'dtree__min_samples_split': 2}\n"
     ]
    }
   ],
   "source": [
    "#tree_params = [{'dtree__max_depth': [4, 6, 8,], 'dtree__min_samples_split': [2, 4], 'dtree__min_samples_leaf': [1, 2]}]\n",
    "#gs_tree = GridSearchCV(tree_pipe, param_grid=tree_params, scoring='precision')\n",
    "#gs_tree.fit(X_train, y_train)\n",
    "#gs_tree.best_params_\n",
    "\n",
    "print({'dtree__max_depth': 6,\n",
    " 'dtree__min_samples_leaf': 1,\n",
    " 'dtree__min_samples_split': 2})"
   ]
  },
  {
   "cell_type": "code",
   "execution_count": 23,
   "metadata": {},
   "outputs": [
    {
     "name": "stdout",
     "output_type": "stream",
     "text": [
      "0.7885146526102459\n"
     ]
    }
   ],
   "source": [
    "#gs_tree.best_score_\n",
    "print(0.7885146526102459)"
   ]
  },
  {
   "cell_type": "code",
   "execution_count": 24,
   "metadata": {},
   "outputs": [
    {
     "name": "stdout",
     "output_type": "stream",
     "text": [
      "{'dtree__max_depth': 6, 'dtree__min_samples_leaf': 1, 'dtree__min_samples_split': 2}\n"
     ]
    }
   ],
   "source": [
    "#That's definitely dealing with our issues of overfit. Since our 'max_depth' parameter came up in the middle of our\n",
    "#options, let's do one more grid search with slighly more granularity to ensure we found the best number. We'll leave\n",
    "#a few of the other hyperparameter options too in case there's a different best combination for a max_depth of 5 or 7.\n",
    "\n",
    "\n",
    "#tree_params = [{'dtree__max_depth': [5, 6, 7,], 'dtree__min_samples_split': [2, 4], 'dtree__min_samples_leaf': [1, 2]}]\n",
    "#gs_tree = GridSearchCV(tree_pipe, param_grid=tree_params, scoring='precision')\n",
    "#gs_tree.fit(X_train, y_train)\n",
    "#print(gs_tree.best_params_)\n",
    "#print(gs_tree.best_score_)\n",
    "print({'dtree__max_depth': 6, 'dtree__min_samples_leaf': 1, 'dtree__min_samples_split': 2})"
   ]
  },
  {
   "cell_type": "code",
   "execution_count": 25,
   "metadata": {},
   "outputs": [
    {
     "data": {
      "text/plain": [
       "Pipeline(steps=[('ct',\n",
       "                 ColumnTransformer(sparse_threshold=0,\n",
       "                                   transformers=[('num',\n",
       "                                                  Pipeline(steps=[('impute_nums',\n",
       "                                                                   SimpleImputer(add_indicator=True,\n",
       "                                                                                 strategy='most_frequent')),\n",
       "                                                                  ('num',\n",
       "                                                                   StandardScaler())]),\n",
       "                                                  ['h1n1_concern',\n",
       "                                                   'h1n1_knowledge',\n",
       "                                                   'opinion_h1n1_vacc_effective',\n",
       "                                                   'opinion_h1n1_risk',\n",
       "                                                   'opinion_h1n1_sick_from_vacc',\n",
       "                                                   'opinion_seas_vacc_effective',\n",
       "                                                   'opinion_...\n",
       "                                                   'behavioral_avoidance',\n",
       "                                                   'behavioral_face_mask',\n",
       "                                                   'behavioral_wash_hands',\n",
       "                                                   'behavioral_large_gatherings',\n",
       "                                                   'behavioral_outside_home',\n",
       "                                                   'behavioral_touch_face',\n",
       "                                                   'doctor_recc_h1n1',\n",
       "                                                   'doctor_recc_seasonal',\n",
       "                                                   'chronic_med_condition',\n",
       "                                                   'child_under_6_months',\n",
       "                                                   'health_worker',\n",
       "                                                   'health_insurance',\n",
       "                                                   'h1n1_vaccine'])])),\n",
       "                ('dtree',\n",
       "                 DecisionTreeClassifier(max_depth=6, random_state=12))])"
      ]
     },
     "execution_count": 25,
     "metadata": {},
     "output_type": "execute_result"
    }
   ],
   "source": [
    "#So our initial results are still the best. We label that our best decision tree model.\n",
    "best_tree = Pipeline(steps=[('ct', col_tr), \n",
    "                           ('dtree', DecisionTreeClassifier(random_state=12, max_depth=6, min_samples_split=2, min_samples_leaf=1))])\n",
    "best_tree.fit(X_train, y_train)"
   ]
  },
  {
   "cell_type": "code",
   "execution_count": 26,
   "metadata": {},
   "outputs": [
    {
     "data": {
      "image/png": "[encoded data removed]",
      "text/plain": [
       "<Figure size 576x432 with 1 Axes>"
      ]
     },
     "metadata": {
      "needs_background": "light"
     },
     "output_type": "display_data"
    }
   ],
   "source": [
    "y_scores = best_tree.predict_proba(X_train)[:, 1]  \n",
    "\n",
    "fpr, tpr, thresholds = roc_curve(y_train, y_scores)\n",
    "roc_auc = auc(fpr, tpr)\n",
    "\n",
    "plt.figure(figsize=(8, 6))\n",
    "plt.plot(fpr, tpr, color='darkorange', lw=2, label='ROC curve (area = {:.2f})'.format(roc_auc))\n",
    "plt.plot([0, 1], [0, 1], color='navy', lw=2, linestyle='--')\n",
    "plt.xlim([0.0, 1.0])\n",
    "plt.ylim([0.0, 1.05])\n",
    "plt.xlabel('False Positive Rate')\n",
    "plt.ylabel('True Positive Rate')\n",
    "plt.title('Receiver Operating Characteristic (ROC)')\n",
    "plt.legend(loc='lower right')\n",
    "plt.show()"
   ]
  },
  {
   "cell_type": "code",
   "execution_count": 27,
   "metadata": {},
   "outputs": [],
   "source": [
    "best_tree_y_train = best_tree.predict(X_train)"
   ]
  },
  {
   "cell_type": "markdown",
   "metadata": {},
   "source": [
    "Precision is the metric of choice for this analysis because our client would prefer false negatives to false positives. Encouraging an already immunized person to get a flu shot is less of an issue than assuming a patient will get theirs and then they don't. Promoting immunization is not cost-free; otherwise our dummy model would be the ideal. Our goal is a fitted precision: a good guess that errs on the side of negative."
   ]
  },
  {
   "cell_type": "code",
   "execution_count": 28,
   "metadata": {
    "scrolled": true
   },
   "outputs": [
    {
     "data": {
      "text/plain": [
       "0.7903145282076884"
      ]
     },
     "execution_count": 28,
     "metadata": {},
     "output_type": "execute_result"
    }
   ],
   "source": [
    "tree_accuracy = accuracy_score(y_train, best_tree_y_train)\n",
    "tree_accuracy\n"
   ]
  },
  {
   "cell_type": "markdown",
   "metadata": {},
   "source": [
    "Our model is no longer overfit, and it is performing fairly well."
   ]
  },
  {
   "cell_type": "code",
   "execution_count": 29,
   "metadata": {},
   "outputs": [
    {
     "data": {
      "image/png": "[encoded data removed]",
      "text/plain": [
       "<Figure size 432x288 with 1 Axes>"
      ]
     },
     "metadata": {
      "needs_background": "light"
     },
     "output_type": "display_data"
    }
   ],
   "source": [
    "classifiers = ['Dummy Classifier', 'Decision Tree']\n",
    "precisions = [dummy_accuracy, tree_accuracy]\n",
    "\n",
    "plt.bar(classifiers, precisions, color=['blue', 'green'])\n",
    "plt.ylabel('Performance')\n",
    "plt.title('Classifier Performance Comparison')\n",
    "plt.ylim(0, 1)  \n",
    "plt.show()"
   ]
  },
  {
   "cell_type": "code",
   "execution_count": 30,
   "metadata": {
    "scrolled": false
   },
   "outputs": [
    {
     "data": {
      "image/png": "[encoded data removed]",
      "text/plain": [
       "<Figure size 576x432 with 1 Axes>"
      ]
     },
     "metadata": {
      "needs_background": "light"
     },
     "output_type": "display_data"
    }
   ],
   "source": [
    "#We want a strong model that errs on the side of false negatives. A confusion matrix helps us visualize whether we're\n",
    "#achieving that.\n",
    "cm = confusion_matrix(y_train, best_tree_y_train)\n",
    "\n",
    "plt.figure(figsize=(8, 6))\n",
    "sns.heatmap(cm, annot=True, fmt=\"d\", cmap=\"Blues\", cbar=False)\n",
    "plt.xlabel(\"Predicted\")\n",
    "plt.ylabel(\"Actual\")\n",
    "plt.title(\"Confusion Matrix\")\n",
    "plt.show()"
   ]
  },
  {
   "cell_type": "markdown",
   "metadata": {},
   "source": [
    "Overall, our decision tree gets it right most of the time, and when it gets it wrong, it's more likely to predict a false negative than a false positive. That's what we're going for, so this is pretty good. But let's see if there's anything else we can do that gets it right even more often."
   ]
  },
  {
   "cell_type": "markdown",
   "metadata": {},
   "source": [
    "# Logistic Regression"
   ]
  },
  {
   "cell_type": "markdown",
   "metadata": {},
   "source": [
    "Now we will create a logistic regression model to see how it compares to our decision tree. Since we already have a pretty solid model with our decision tree, we'll go straight to a grid search for optimal parameters."
   ]
  },
  {
   "cell_type": "code",
   "execution_count": 31,
   "metadata": {},
   "outputs": [],
   "source": [
    "log_pipe = Pipeline([('ct', col_tr),\n",
    "    ('logistic', LogisticRegression(max_iter=1000))])"
   ]
  },
  {
   "cell_type": "code",
   "execution_count": 32,
   "metadata": {},
   "outputs": [
    {
     "data": {
      "text/plain": [
       "Pipeline(steps=[('ct',\n",
       "                 ColumnTransformer(sparse_threshold=0,\n",
       "                                   transformers=[('num',\n",
       "                                                  Pipeline(steps=[('impute_nums',\n",
       "                                                                   SimpleImputer(add_indicator=True,\n",
       "                                                                                 strategy='most_frequent')),\n",
       "                                                                  ('num',\n",
       "                                                                   StandardScaler())]),\n",
       "                                                  ['h1n1_concern',\n",
       "                                                   'h1n1_knowledge',\n",
       "                                                   'opinion_h1n1_vacc_effective',\n",
       "                                                   'opinion_h1n1_risk',\n",
       "                                                   'opinion_h1n1_sick_from_vacc',\n",
       "                                                   'opinion_seas_vacc_effective',\n",
       "                                                   'opinion_...\n",
       "                                                  ['behavioral_antiviral_meds',\n",
       "                                                   'behavioral_avoidance',\n",
       "                                                   'behavioral_face_mask',\n",
       "                                                   'behavioral_wash_hands',\n",
       "                                                   'behavioral_large_gatherings',\n",
       "                                                   'behavioral_outside_home',\n",
       "                                                   'behavioral_touch_face',\n",
       "                                                   'doctor_recc_h1n1',\n",
       "                                                   'doctor_recc_seasonal',\n",
       "                                                   'chronic_med_condition',\n",
       "                                                   'child_under_6_months',\n",
       "                                                   'health_worker',\n",
       "                                                   'health_insurance',\n",
       "                                                   'h1n1_vaccine'])])),\n",
       "                ('logistic', LogisticRegression(max_iter=1000))])"
      ]
     },
     "execution_count": 32,
     "metadata": {},
     "output_type": "execute_result"
    }
   ],
   "source": [
    "log_pipe.fit(X_train, y_train)"
   ]
  },
  {
   "cell_type": "code",
   "execution_count": 33,
   "metadata": {},
   "outputs": [
    {
     "data": {
      "text/plain": [
       "{'fit_time': array([1.17384529, 1.13559985, 1.10487604, 1.11916327, 1.05089211]),\n",
       " 'score_time': array([0.01826692, 0.01950026, 0.01987505, 0.01891565, 0.020787  ]),\n",
       " 'test_score': array([0.79081378, 0.79955067, 0.8017973 , 0.79605592, 0.80129805]),\n",
       " 'train_score': array([0.80410634, 0.8007988 , 0.80029955, 0.80416875, 0.80279581])}"
      ]
     },
     "execution_count": 33,
     "metadata": {},
     "output_type": "execute_result"
    }
   ],
   "source": [
    "cv_results = cross_validate(estimator=log_pipe, X=X_train, y=y_train, cv=5,\n",
    "                            return_train_score=True)\n",
    "cv_results"
   ]
  },
  {
   "cell_type": "code",
   "execution_count": 34,
   "metadata": {},
   "outputs": [
    {
     "name": "stdout",
     "output_type": "stream",
     "text": [
      "0.8041120650700406\n"
     ]
    }
   ],
   "source": [
    "log_y_train = log_pipe.predict(X_train)\n",
    "print(precision_score(y_train, log_y_train))"
   ]
  },
  {
   "cell_type": "code",
   "execution_count": 35,
   "metadata": {},
   "outputs": [
    {
     "name": "stdout",
     "output_type": "stream",
     "text": [
      "{'logistic__C': 0.1}\n"
     ]
    }
   ],
   "source": [
    "#log_params = {'logistic__C': [0.001, 0.01, 0.1, 1, 10]}\n",
    "\n",
    "#gs_log = GridSearchCV(log_pipe, log_params, scoring='precision')\n",
    "\n",
    "#gs_log.fit(X_train, y_train)\n",
    "\n",
    "#print(gs_log.best_params_)\n",
    "#print(gs_log.best_score_)\n",
    "print({'logistic__C': 0.1})"
   ]
  },
  {
   "cell_type": "code",
   "execution_count": 36,
   "metadata": {},
   "outputs": [
    {
     "data": {
      "text/plain": [
       "Pipeline(steps=[('ct',\n",
       "                 ColumnTransformer(sparse_threshold=0,\n",
       "                                   transformers=[('num',\n",
       "                                                  Pipeline(steps=[('impute_nums',\n",
       "                                                                   SimpleImputer(add_indicator=True,\n",
       "                                                                                 strategy='most_frequent')),\n",
       "                                                                  ('num',\n",
       "                                                                   StandardScaler())]),\n",
       "                                                  ['h1n1_concern',\n",
       "                                                   'h1n1_knowledge',\n",
       "                                                   'opinion_h1n1_vacc_effective',\n",
       "                                                   'opinion_h1n1_risk',\n",
       "                                                   'opinion_h1n1_sick_from_vacc',\n",
       "                                                   'opinion_seas_vacc_effective',\n",
       "                                                   'opinion_...\n",
       "                                                  ['behavioral_antiviral_meds',\n",
       "                                                   'behavioral_avoidance',\n",
       "                                                   'behavioral_face_mask',\n",
       "                                                   'behavioral_wash_hands',\n",
       "                                                   'behavioral_large_gatherings',\n",
       "                                                   'behavioral_outside_home',\n",
       "                                                   'behavioral_touch_face',\n",
       "                                                   'doctor_recc_h1n1',\n",
       "                                                   'doctor_recc_seasonal',\n",
       "                                                   'chronic_med_condition',\n",
       "                                                   'child_under_6_months',\n",
       "                                                   'health_worker',\n",
       "                                                   'health_insurance',\n",
       "                                                   'h1n1_vaccine'])])),\n",
       "                ('logistic', LogisticRegression(C=0.1, max_iter=1000))])"
      ]
     },
     "execution_count": 36,
     "metadata": {},
     "output_type": "execute_result"
    }
   ],
   "source": [
    "best_log = Pipeline([('ct', col_tr),\n",
    "    ('logistic', LogisticRegression(C=.1, max_iter=1000))])\n",
    "best_log.fit(X_train, y_train)"
   ]
  },
  {
   "cell_type": "code",
   "execution_count": 37,
   "metadata": {},
   "outputs": [
    {
     "data": {
      "image/png": "[encoded data removed]",
      "text/plain": [
       "<Figure size 576x432 with 1 Axes>"
      ]
     },
     "metadata": {
      "needs_background": "light"
     },
     "output_type": "display_data"
    }
   ],
   "source": [
    "y_scores2 = best_log.predict_proba(X_train)[:, 1]  \n",
    "\n",
    "fpr, tpr, thresholds = roc_curve(y_train, y_scores2)\n",
    "roc_auc = auc(fpr, tpr)\n",
    "\n",
    "plt.figure(figsize=(8, 6))\n",
    "plt.plot(fpr, tpr, color='darkorange', lw=2, label='ROC curve (area = {:.2f})'.format(roc_auc))\n",
    "plt.plot([0, 1], [0, 1], color='navy', lw=2, linestyle='--')\n",
    "plt.xlim([0.0, 1.0])\n",
    "plt.ylim([0.0, 1.05])\n",
    "plt.xlabel('False Positive Rate')\n",
    "plt.ylabel('True Positive Rate')\n",
    "plt.title('Receiver Operating Characteristic (ROC)')\n",
    "plt.legend(loc='lower right')\n",
    "plt.show()"
   ]
  },
  {
   "cell_type": "code",
   "execution_count": 38,
   "metadata": {},
   "outputs": [],
   "source": [
    "best_log_y_train = best_log.predict(X_train)"
   ]
  },
  {
   "cell_type": "code",
   "execution_count": 39,
   "metadata": {},
   "outputs": [
    {
     "data": {
      "text/plain": [
       "0.801397903145282"
      ]
     },
     "execution_count": 39,
     "metadata": {},
     "output_type": "execute_result"
    }
   ],
   "source": [
    "log_accuracy = accuracy_score(y_train, best_log_y_train)\n",
    "log_accuracy"
   ]
  },
  {
   "cell_type": "code",
   "execution_count": 40,
   "metadata": {},
   "outputs": [
    {
     "data": {
      "image/png": "[encoded data removed]",
      "text/plain": [
       "<Figure size 432x288 with 1 Axes>"
      ]
     },
     "metadata": {
      "needs_background": "light"
     },
     "output_type": "display_data"
    }
   ],
   "source": [
    "classifiers = ['Dummy Classifier', 'Decision Tree', 'Logistic Regression']\n",
    "precisions = [dummy_accuracy, tree_accuracy, log_accuracy]\n",
    "\n",
    "plt.bar(classifiers, precisions, color=['blue', 'green', 'purple'])\n",
    "plt.ylabel('Performance')\n",
    "plt.title('Classifier Performance Comparison')\n",
    "plt.ylim(0, 1)  \n",
    "plt.show()"
   ]
  },
  {
   "cell_type": "markdown",
   "metadata": {},
   "source": [
    "Our logistic regression is just slightly beating our decision tree in precision."
   ]
  },
  {
   "cell_type": "code",
   "execution_count": 41,
   "metadata": {},
   "outputs": [
    {
     "data": {
      "text/plain": [
       "0.781404549950544"
      ]
     },
     "execution_count": 41,
     "metadata": {},
     "output_type": "execute_result"
    }
   ],
   "source": [
    "#Check its overall performance--also solid.\n",
    "f1 = f1_score(y_train, best_log_y_train)\n",
    "f1"
   ]
  },
  {
   "cell_type": "code",
   "execution_count": 42,
   "metadata": {},
   "outputs": [
    {
     "data": {
      "image/png": "[encoded data removed]",
      "text/plain": [
       "<Figure size 576x432 with 1 Axes>"
      ]
     },
     "metadata": {
      "needs_background": "light"
     },
     "output_type": "display_data"
    }
   ],
   "source": [
    "cm2 = confusion_matrix(y_train, best_log_y_train)\n",
    "\n",
    "plt.figure(figsize=(8, 6))\n",
    "sns.heatmap(cm2, annot=True, fmt=\"d\", cmap=\"Blues\", cbar=False)\n",
    "plt.xlabel(\"Predicted\")\n",
    "plt.ylabel(\"Actual\")\n",
    "plt.title(\"Confusion Matrix\")\n",
    "plt.show()"
   ]
  },
  {
   "cell_type": "markdown",
   "metadata": {},
   "source": [
    "Our logistic regression is slightly more precise than our decision tree, making it our preferred model."
   ]
  },
  {
   "cell_type": "code",
   "execution_count": 43,
   "metadata": {},
   "outputs": [
    {
     "data": {
      "text/plain": [
       "{'ct': ColumnTransformer(sparse_threshold=0,\n",
       "                   transformers=[('num',\n",
       "                                  Pipeline(steps=[('impute_nums',\n",
       "                                                   SimpleImputer(add_indicator=True,\n",
       "                                                                 strategy='most_frequent')),\n",
       "                                                  ('num', StandardScaler())]),\n",
       "                                  ['h1n1_concern', 'h1n1_knowledge',\n",
       "                                   'opinion_h1n1_vacc_effective',\n",
       "                                   'opinion_h1n1_risk',\n",
       "                                   'opinion_h1n1_sick_from_vacc',\n",
       "                                   'opinion_seas_vacc_effective',\n",
       "                                   'opinion_seas_risk',\n",
       "                                   'opinion_se...\n",
       "                                                                 strategy='most_frequent'))]),\n",
       "                                  ['behavioral_antiviral_meds',\n",
       "                                   'behavioral_avoidance',\n",
       "                                   'behavioral_face_mask',\n",
       "                                   'behavioral_wash_hands',\n",
       "                                   'behavioral_large_gatherings',\n",
       "                                   'behavioral_outside_home',\n",
       "                                   'behavioral_touch_face', 'doctor_recc_h1n1',\n",
       "                                   'doctor_recc_seasonal',\n",
       "                                   'chronic_med_condition',\n",
       "                                   'child_under_6_months', 'health_worker',\n",
       "                                   'health_insurance', 'h1n1_vaccine'])]),\n",
       " 'logistic': LogisticRegression(C=0.1, max_iter=1000)}"
      ]
     },
     "execution_count": 43,
     "metadata": {},
     "output_type": "execute_result"
    }
   ],
   "source": [
    "best_log.named_steps"
   ]
  },
  {
   "cell_type": "code",
   "execution_count": 44,
   "metadata": {
    "scrolled": true
   },
   "outputs": [
    {
     "data": {
      "text/plain": [
       "143"
      ]
     },
     "execution_count": 44,
     "metadata": {},
     "output_type": "execute_result"
    }
   ],
   "source": [
    "coeff = best_log.named_steps['logistic'].coef_\n",
    "len(coeff[0])"
   ]
  },
  {
   "cell_type": "code",
   "execution_count": 45,
   "metadata": {},
   "outputs": [
    {
     "data": {
      "text/plain": [
       "96"
      ]
     },
     "execution_count": 45,
     "metadata": {},
     "output_type": "execute_result"
    }
   ],
   "source": [
    "obj = list(col_tr.named_transformers_['ohe'].named_steps['ohe'].get_feature_names())\n",
    "len(obj)"
   ]
  },
  {
   "cell_type": "code",
   "execution_count": 46,
   "metadata": {},
   "outputs": [],
   "source": [
    "num_ind = ['h1n1_concern', 'h1n1_knowledge', 'opinion_h1n1_vacc_effective', 'opinion_h1n1_risk', 'opinion_h1n1_sick_from_vacc', 'opinion_seas_vacc_effective', 'opinion_seas_risk', 'opinion_seas_sick_from_vacc', 'household_adults', 'household_children']"
   ]
  },
  {
   "cell_type": "code",
   "execution_count": 47,
   "metadata": {},
   "outputs": [
    {
     "name": "stdout",
     "output_type": "stream",
     "text": [
      "['h1n1_concern_indicator', 'h1n1_knowledge_indicator', 'opinion_h1n1_vacc_effective_indicator', 'opinion_h1n1_risk_indicator', 'opinion_h1n1_sick_from_vacc_indicator', 'opinion_seas_vacc_effective_indicator', 'opinion_seas_risk_indicator', 'opinion_seas_sick_from_vacc_indicator', 'household_adults_indicator', 'household_children_indicator']\n"
     ]
    }
   ],
   "source": [
    "num_ind = []\n",
    "for name in numbers:\n",
    "    new_name = name+\"_indicator\"\n",
    "    num_ind.append(new_name)\n",
    "print(num_ind)"
   ]
  },
  {
   "cell_type": "code",
   "execution_count": 48,
   "metadata": {},
   "outputs": [],
   "source": [
    "final_num = numbers + num_ind"
   ]
  },
  {
   "cell_type": "code",
   "execution_count": 49,
   "metadata": {
    "scrolled": true
   },
   "outputs": [],
   "source": [
    "final_num_cat =  final_num + obj"
   ]
  },
  {
   "cell_type": "code",
   "execution_count": 50,
   "metadata": {},
   "outputs": [
    {
     "name": "stdout",
     "output_type": "stream",
     "text": [
      "['behavioral_antiviral_meds_indicator', 'behavioral_avoidance_indicator', 'behavioral_face_mask_indicator', 'behavioral_wash_hands_indicator', 'behavioral_large_gatherings_indicator', 'behavioral_outside_home_indicator', 'behavioral_touch_face_indicator', 'doctor_recc_h1n1_indicator', 'doctor_recc_seasonal_indicator', 'chronic_med_condition_indicator', 'child_under_6_months_indicator', 'health_worker_indicator', 'health_insurance_indicator']\n"
     ]
    }
   ],
   "source": [
    "bin_ind = []\n",
    "\n",
    "for name in binary:\n",
    "    new_name = name+'_indicator'\n",
    "    bin_ind.append(new_name)\n",
    "\n",
    "bin_ind.remove('h1n1_vaccine_indicator')\n",
    "print(bin_ind)"
   ]
  },
  {
   "cell_type": "code",
   "execution_count": 51,
   "metadata": {},
   "outputs": [],
   "source": [
    "final_bin = binary + bin_ind"
   ]
  },
  {
   "cell_type": "code",
   "execution_count": 70,
   "metadata": {},
   "outputs": [
    {
     "name": "stdout",
     "output_type": "stream",
     "text": [
      "                         Feature  Coefficient  Abs_Coefficient\n",
      "129                 h1n1_vaccine     1.828897         1.828897\n",
      "124         doctor_recc_seasonal     1.509917         1.509917\n",
      "63                  x10_haxffmxo     0.981377         0.981377\n",
      "82                  x11_dcjcmpih     0.981377         0.981377\n",
      "35                  x4_65+ Years     0.907776         0.907776\n",
      "123             doctor_recc_h1n1    -0.807291         0.807291\n",
      "6              opinion_seas_risk     0.721703         0.721703\n",
      "5    opinion_seas_vacc_effective     0.627554         0.627554\n",
      "31              x4_18 - 34 Years    -0.566918         0.566918\n",
      "73                  x10_saaquncn    -0.496059         0.496059\n",
      "67                  x10_msuufmds     0.454000         0.454000\n",
      "127                health_worker     0.441817         0.441817\n",
      "72                  x10_rucpziij    -0.425861         0.425861\n",
      "128             health_insurance     0.399616         0.399616\n",
      "68                  x10_nduyfdeo    -0.353617         0.353617\n",
      "98                  x11_xgwztkwe    -0.344316         0.344316\n",
      "96                  x11_uqqtjvyb    -0.333200         0.333200\n",
      "74                  x10_vjjrobsf    -0.319685         0.319685\n",
      "32              x4_35 - 44 Years    -0.290538         0.290538\n",
      "95                  x11_ukymxvdu    -0.280524         0.280524\n"
     ]
    }
   ],
   "source": [
    "logreg_estimator = best_log.named_steps['logistic']\n",
    "\n",
    "\n",
    "coefficients = logreg_estimator.coef_\n",
    "intercept = logreg_estimator.intercept_\n",
    "\n",
    "feature_names = final_num_cat + final_bin \n",
    "\n",
    "coef_df = pd.DataFrame({'Feature': feature_names, 'Coefficient': coefficients[0]})\n",
    "\n",
    "coef_df['Abs_Coefficient'] = abs(coef_df['Coefficient'])\n",
    "sorted_coef = coef_df.sort_values(by='Abs_Coefficient', ascending=False)\n",
    "\n",
    "\n",
    "print(sorted_coef.head(20))\n"
   ]
  },
  {
   "cell_type": "markdown",
   "metadata": {},
   "source": [
    "# A Simpler Model"
   ]
  },
  {
   "cell_type": "markdown",
   "metadata": {},
   "source": [
    "### We want to go back to those features that had the highest initial correlation with vaccine status. We wonder if there's a possibility to make a useful model that requires significantly less input."
   ]
  },
  {
   "cell_type": "code",
   "execution_count": 53,
   "metadata": {},
   "outputs": [],
   "source": [
    "numbers2=['opinion_seas_vacc_effective', 'opinion_seas_risk']\n",
    "binary2= ['doctor_recc_seasonal', 'h1n1_vaccine']"
   ]
  },
  {
   "cell_type": "code",
   "execution_count": 54,
   "metadata": {},
   "outputs": [],
   "source": [
    "col_tr2 = ColumnTransformer(transformers=[('num', numbers_pipeline, numbers2),\n",
    "                                        ('bin', binary_pipeline, binary2)],\n",
    "                          remainder='drop', sparse_threshold=0)"
   ]
  },
  {
   "cell_type": "code",
   "execution_count": 55,
   "metadata": {},
   "outputs": [
    {
     "name": "stdout",
     "output_type": "stream",
     "text": [
      "0.7825511431355323\n"
     ]
    }
   ],
   "source": [
    "#log_pipe2 = Pipeline([('ct', col_tr2),\n",
    "    #('logistic', LogisticRegression(max_iter=1000))])\n",
    "\n",
    "\n",
    "#param_grid = {'logistic__C': [0.001, 0.01, 0.1, 1, 10]}\n",
    "\n",
    "#grid_search2 = GridSearchCV(log_pipe2, param_grid, cv=5, scoring='precision')\n",
    "\n",
    "#grid_search2.fit(X_train, y_train)\n",
    "\n",
    "#grid_search2.best_score_\n",
    "\n",
    "print(0.7825511431355323)"
   ]
  },
  {
   "cell_type": "code",
   "execution_count": 56,
   "metadata": {},
   "outputs": [
    {
     "name": "stdout",
     "output_type": "stream",
     "text": [
      "{'logistic__C': 0.001}\n"
     ]
    }
   ],
   "source": [
    "#grid_search2.best_params_\n",
    "print({'logistic__C': 0.001})"
   ]
  },
  {
   "cell_type": "code",
   "execution_count": 57,
   "metadata": {},
   "outputs": [
    {
     "data": {
      "text/plain": [
       "Pipeline(steps=[('ct',\n",
       "                 ColumnTransformer(sparse_threshold=0,\n",
       "                                   transformers=[('num',\n",
       "                                                  Pipeline(steps=[('impute_nums',\n",
       "                                                                   SimpleImputer(add_indicator=True,\n",
       "                                                                                 strategy='most_frequent')),\n",
       "                                                                  ('num',\n",
       "                                                                   StandardScaler())]),\n",
       "                                                  ['opinion_seas_vacc_effective',\n",
       "                                                   'opinion_seas_risk']),\n",
       "                                                 ('bin',\n",
       "                                                  Pipeline(steps=[('impute_bin',\n",
       "                                                                   SimpleImputer(add_indicator=True,\n",
       "                                                                                 strategy='most_frequent'))]),\n",
       "                                                  ['doctor_recc_seasonal',\n",
       "                                                   'h1n1_vaccine'])])),\n",
       "                ('logistic', LogisticRegression(C=0.001, max_iter=1000))])"
      ]
     },
     "execution_count": 57,
     "metadata": {},
     "output_type": "execute_result"
    }
   ],
   "source": [
    "simple_model = Pipeline([('ct', col_tr2),\n",
    "    ('logistic', LogisticRegression(max_iter=1000, C=.001))])\n",
    "simple_model.fit(X_train, y_train)"
   ]
  },
  {
   "cell_type": "code",
   "execution_count": 58,
   "metadata": {},
   "outputs": [],
   "source": [
    "simple_model_y_train = simple_model.predict(X_train)"
   ]
  },
  {
   "cell_type": "code",
   "execution_count": 59,
   "metadata": {},
   "outputs": [
    {
     "data": {
      "text/plain": [
       "(0.7770211712269407, 0.7198073173529075)"
      ]
     },
     "execution_count": 59,
     "metadata": {},
     "output_type": "execute_result"
    }
   ],
   "source": [
    "simple_model_precision = precision_score(y_train, simple_model_y_train)\n",
    "simple_model_f1_score = f1_score(y_train, simple_model_y_train)\n",
    "simple_model_precision, simple_model_f1_score"
   ]
  },
  {
   "cell_type": "code",
   "execution_count": 60,
   "metadata": {},
   "outputs": [
    {
     "data": {
      "image/png": "[encoded data removed]",
      "text/plain": [
       "<Figure size 576x432 with 1 Axes>"
      ]
     },
     "metadata": {
      "needs_background": "light"
     },
     "output_type": "display_data"
    }
   ],
   "source": [
    "y_scores3 = simple_model.predict_proba(X_train)[:, 1]  \n",
    "\n",
    "fpr, tpr, thresholds = roc_curve(y_train, y_scores3)\n",
    "roc_auc = auc(fpr, tpr)\n",
    "\n",
    "plt.figure(figsize=(8, 6))\n",
    "plt.plot(fpr, tpr, color='darkorange', lw=2, label='ROC curve (area = {:.2f})'.format(roc_auc))\n",
    "plt.plot([0, 1], [0, 1], color='navy', lw=2, linestyle='--')\n",
    "plt.xlim([0.0, 1.0])\n",
    "plt.ylim([0.0, 1.05])\n",
    "plt.xlabel('False Positive Rate')\n",
    "plt.ylabel('True Positive Rate')\n",
    "plt.title('Receiver Operating Characteristic (ROC)')\n",
    "plt.legend(loc='lower right')\n",
    "plt.show()"
   ]
  },
  {
   "cell_type": "code",
   "execution_count": 61,
   "metadata": {},
   "outputs": [
    {
     "data": {
      "text/plain": [
       "0.7560659011482775"
      ]
     },
     "execution_count": 61,
     "metadata": {},
     "output_type": "execute_result"
    }
   ],
   "source": [
    "simple_accuracy = accuracy_score(y_train, simple_model_y_train)\n",
    "simple_accuracy"
   ]
  },
  {
   "cell_type": "code",
   "execution_count": 62,
   "metadata": {},
   "outputs": [
    {
     "data": {
      "image/png": "[encoded data removed]",
      "text/plain": [
       "<Figure size 432x288 with 1 Axes>"
      ]
     },
     "metadata": {
      "needs_background": "light"
     },
     "output_type": "display_data"
    }
   ],
   "source": [
    "classifiers = ['Dummy Classifier', 'Decision Tree', 'Log Reg', 'Simple Model']\n",
    "precisions = [dummy_accuracy, tree_accuracy, log_accuracy, simple_accuracy]\n",
    "\n",
    "plt.bar(classifiers, precisions, color=['blue', 'green', 'purple', 'red'])\n",
    "plt.ylabel('Performance')\n",
    "plt.title('Classifier Performance Comparison')\n",
    "plt.ylim(0, 1)  \n",
    "plt.show()"
   ]
  },
  {
   "cell_type": "code",
   "execution_count": 63,
   "metadata": {},
   "outputs": [
    {
     "data": {
      "image/png": "[encoded data removed]",
      "text/plain": [
       "<Figure size 576x432 with 1 Axes>"
      ]
     },
     "metadata": {
      "needs_background": "light"
     },
     "output_type": "display_data"
    }
   ],
   "source": [
    "cm3 = confusion_matrix(y_train, simple_model_y_train)\n",
    "\n",
    "plt.figure(figsize=(8, 6))\n",
    "sns.heatmap(cm3, annot=True, fmt=\"d\", cmap=\"Blues\", cbar=False)\n",
    "plt.xlabel(\"Predicted\")\n",
    "plt.ylabel(\"Actual\")\n",
    "plt.title(\"Confusion Matrix\")\n",
    "plt.show()"
   ]
  },
  {
   "cell_type": "markdown",
   "metadata": {},
   "source": [
    "Our simple model, using only four features, is performing almost as well as our 36-feature complex model. We will present it to our client as an alternative for situations where extensive data collection may be cost-prohibitive or even impossible."
   ]
  },
  {
   "cell_type": "markdown",
   "metadata": {},
   "source": [
    "# Evaluation"
   ]
  },
  {
   "cell_type": "markdown",
   "metadata": {},
   "source": [
    "### Our logistic regression model outperforms our decision tree just slightly, but it does so by multiple measures. It has a higher precision score as well as overall accuracy score, and its ROC curve is slightly closer to ideal."
   ]
  },
  {
   "cell_type": "code",
   "execution_count": 64,
   "metadata": {},
   "outputs": [],
   "source": [
    "best_log_y_pred = best_log.predict(X_test)"
   ]
  },
  {
   "cell_type": "code",
   "execution_count": 65,
   "metadata": {},
   "outputs": [
    {
     "data": {
      "text/plain": [
       "0.8054515500973491"
      ]
     },
     "execution_count": 65,
     "metadata": {},
     "output_type": "execute_result"
    }
   ],
   "source": [
    "final_accuracy = accuracy_score(y_test, best_log_y_pred)\n",
    "final_accuracy"
   ]
  },
  {
   "cell_type": "code",
   "execution_count": 66,
   "metadata": {},
   "outputs": [
    {
     "data": {
      "text/plain": [
       "0.783391695847924"
      ]
     },
     "execution_count": 66,
     "metadata": {},
     "output_type": "execute_result"
    }
   ],
   "source": [
    "final_f1 = f1_score(y_test, best_log_y_pred)\n",
    "final_f1"
   ]
  },
  {
   "cell_type": "code",
   "execution_count": 67,
   "metadata": {},
   "outputs": [
    {
     "data": {
      "text/plain": [
       "0.8036264112213479"
      ]
     },
     "execution_count": 67,
     "metadata": {},
     "output_type": "execute_result"
    }
   ],
   "source": [
    "final_precision = precision_score(y_test, best_log_y_pred)\n",
    "final_precision"
   ]
  },
  {
   "cell_type": "code",
   "execution_count": 68,
   "metadata": {},
   "outputs": [
    {
     "data": {
      "text/plain": [
       "0.7840909090909091"
      ]
     },
     "execution_count": 68,
     "metadata": {},
     "output_type": "execute_result"
    }
   ],
   "source": [
    "simple_y_pred = simple_model.predict(X_test)\n",
    "simple_precision = precision_score(y_test, simple_y_pred)\n",
    "simple_precision"
   ]
  },
  {
   "cell_type": "markdown",
   "metadata": {},
   "source": [
    "### Our final model has a precision score of 80.4%. Our simple model is slightly less precise with a score of 78.4%."
   ]
  },
  {
   "cell_type": "markdown",
   "metadata": {},
   "source": [
    "# Recommendations"
   ]
  },
  {
   "cell_type": "markdown",
   "metadata": {},
   "source": [
    "### We offer our logistic regression model to help the healthcare organization predict whether a patient will get the seasonal flu shot.\n",
    "### We also offer a simplified model that achieves very similar results with only four inputs. Determining these four features about a patient is likely much more achievable than gathering 37 data points. The ease of making predictions about a patient may compensate for the slight loss of precision.\n",
    "### Given its high correlation with vaccine status, we also recommend that doctors make a regular practice of recommending the flu vaccine to their patients. It is the only feature in the model completely within the control of our client, and it has a strong relationship with patients getting immunized. "
   ]
  },
  {
   "cell_type": "markdown",
   "metadata": {},
   "source": [
    "# Next Steps"
   ]
  },
  {
   "cell_type": "markdown",
   "metadata": {},
   "source": [
    "### The model can be improved going forward if our client keeps track of its efforts to promote vaccination. We can add a feature based on whether a patient received targeted encouragement, and see the effect that has on vaccine uptake. It seems likely that some people are unvaccinated due to hesitancy or personal conviction, while others simply don't put in the effort to make sure they get their shot every season. Teasing out the differences in those two groups may suggest further ways to categorize and effectively reach these potentially different groups."
   ]
  },
  {
   "cell_type": "code",
   "execution_count": null,
   "metadata": {},
   "outputs": [],
   "source": []
  }
 ],
 "metadata": {
  "kernelspec": {
   "display_name": "Python (learn-env)",
   "language": "python",
   "name": "learn-env"
  },
  "language_info": {
   "codemirror_mode": {
    "name": "ipython",
    "version": 3
   },
   "file_extension": ".py",
   "mimetype": "text/x-python",
   "name": "python",
   "nbconvert_exporter": "python",
   "pygments_lexer": "ipython3",
   "version": "3.8.5"
  }
 },
 "nbformat": 4,
 "nbformat_minor": 4
}
