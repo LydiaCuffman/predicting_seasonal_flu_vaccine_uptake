{
 "cells": [
  {
   "cell_type": "code",
   "execution_count": 1,
   "metadata": {},
   "outputs": [],
   "source": [
    "import pandas as pd\n",
    "from sklearn.model_selection import train_test_split, cross_validate\n",
    "from sklearn.pipeline import Pipeline\n",
    "from sklearn.impute import SimpleImputer\n",
    "from sklearn.preprocessing import OneHotEncoder, OrdinalEncoder, StandardScaler\n",
    "from sklearn.compose import ColumnTransformer\n",
    "from sklearn.tree import DecisionTreeClassifier\n",
    "from sklearn.linear_model import LogisticRegression\n",
    "from sklearn.dummy import DummyClassifier\n",
    "from sklearn.metrics import accuracy_score, classification_report, f1_score, roc_auc_score, roc_curve, precision_score\n",
    "from sklearn.metrics import confusion_matrix\n",
    "import seaborn as sns\n",
    "import matplotlib.pyplot as plt"
   ]
  },
  {
   "cell_type": "markdown",
   "metadata": {},
   "source": [
    "TEST2"
   ]
  },
  {
   "cell_type": "markdown",
   "metadata": {},
   "source": [
    "# test"
   ]
  },
  {
   "cell_type": "code",
   "execution_count": 2,
   "metadata": {},
   "outputs": [],
   "source": [
    "features = pd.read_csv('data/training_set_features.csv')\n",
    "labels = pd.read_csv('data/training_set_labels.csv')"
   ]
  },
  {
   "cell_type": "code",
   "execution_count": 3,
   "metadata": {},
   "outputs": [],
   "source": [
    "flu_df = pd.merge(features, labels, on='respondent_id', how='outer')"
   ]
  },
  {
   "cell_type": "code",
   "execution_count": 4,
   "metadata": {
    "scrolled": true
   },
   "outputs": [
    {
     "data": {
      "text/html": [
       "<div>\n",
       "<style scoped>\n",
       "    .dataframe tbody tr th:only-of-type {\n",
       "        vertical-align: middle;\n",
       "    }\n",
       "\n",
       "    .dataframe tbody tr th {\n",
       "        vertical-align: top;\n",
       "    }\n",
       "\n",
       "    .dataframe thead th {\n",
       "        text-align: right;\n",
       "    }\n",
       "</style>\n",
       "<table border=\"1\" class=\"dataframe\">\n",
       "  <thead>\n",
       "    <tr style=\"text-align: right;\">\n",
       "      <th></th>\n",
       "      <th>respondent_id</th>\n",
       "      <th>h1n1_concern</th>\n",
       "      <th>h1n1_knowledge</th>\n",
       "      <th>behavioral_antiviral_meds</th>\n",
       "      <th>behavioral_avoidance</th>\n",
       "      <th>behavioral_face_mask</th>\n",
       "      <th>behavioral_wash_hands</th>\n",
       "      <th>behavioral_large_gatherings</th>\n",
       "      <th>behavioral_outside_home</th>\n",
       "      <th>behavioral_touch_face</th>\n",
       "      <th>...</th>\n",
       "      <th>rent_or_own</th>\n",
       "      <th>employment_status</th>\n",
       "      <th>hhs_geo_region</th>\n",
       "      <th>census_msa</th>\n",
       "      <th>household_adults</th>\n",
       "      <th>household_children</th>\n",
       "      <th>employment_industry</th>\n",
       "      <th>employment_occupation</th>\n",
       "      <th>h1n1_vaccine</th>\n",
       "      <th>seasonal_vaccine</th>\n",
       "    </tr>\n",
       "  </thead>\n",
       "  <tbody>\n",
       "    <tr>\n",
       "      <th>0</th>\n",
       "      <td>0</td>\n",
       "      <td>1.0</td>\n",
       "      <td>0.0</td>\n",
       "      <td>0.0</td>\n",
       "      <td>0.0</td>\n",
       "      <td>0.0</td>\n",
       "      <td>0.0</td>\n",
       "      <td>0.0</td>\n",
       "      <td>1.0</td>\n",
       "      <td>1.0</td>\n",
       "      <td>...</td>\n",
       "      <td>Own</td>\n",
       "      <td>Not in Labor Force</td>\n",
       "      <td>oxchjgsf</td>\n",
       "      <td>Non-MSA</td>\n",
       "      <td>0.0</td>\n",
       "      <td>0.0</td>\n",
       "      <td>NaN</td>\n",
       "      <td>NaN</td>\n",
       "      <td>0</td>\n",
       "      <td>0</td>\n",
       "    </tr>\n",
       "    <tr>\n",
       "      <th>1</th>\n",
       "      <td>1</td>\n",
       "      <td>3.0</td>\n",
       "      <td>2.0</td>\n",
       "      <td>0.0</td>\n",
       "      <td>1.0</td>\n",
       "      <td>0.0</td>\n",
       "      <td>1.0</td>\n",
       "      <td>0.0</td>\n",
       "      <td>1.0</td>\n",
       "      <td>1.0</td>\n",
       "      <td>...</td>\n",
       "      <td>Rent</td>\n",
       "      <td>Employed</td>\n",
       "      <td>bhuqouqj</td>\n",
       "      <td>MSA, Not Principle  City</td>\n",
       "      <td>0.0</td>\n",
       "      <td>0.0</td>\n",
       "      <td>pxcmvdjn</td>\n",
       "      <td>xgwztkwe</td>\n",
       "      <td>0</td>\n",
       "      <td>1</td>\n",
       "    </tr>\n",
       "    <tr>\n",
       "      <th>2</th>\n",
       "      <td>2</td>\n",
       "      <td>1.0</td>\n",
       "      <td>1.0</td>\n",
       "      <td>0.0</td>\n",
       "      <td>1.0</td>\n",
       "      <td>0.0</td>\n",
       "      <td>0.0</td>\n",
       "      <td>0.0</td>\n",
       "      <td>0.0</td>\n",
       "      <td>0.0</td>\n",
       "      <td>...</td>\n",
       "      <td>Own</td>\n",
       "      <td>Employed</td>\n",
       "      <td>qufhixun</td>\n",
       "      <td>MSA, Not Principle  City</td>\n",
       "      <td>2.0</td>\n",
       "      <td>0.0</td>\n",
       "      <td>rucpziij</td>\n",
       "      <td>xtkaffoo</td>\n",
       "      <td>0</td>\n",
       "      <td>0</td>\n",
       "    </tr>\n",
       "    <tr>\n",
       "      <th>3</th>\n",
       "      <td>3</td>\n",
       "      <td>1.0</td>\n",
       "      <td>1.0</td>\n",
       "      <td>0.0</td>\n",
       "      <td>1.0</td>\n",
       "      <td>0.0</td>\n",
       "      <td>1.0</td>\n",
       "      <td>1.0</td>\n",
       "      <td>0.0</td>\n",
       "      <td>0.0</td>\n",
       "      <td>...</td>\n",
       "      <td>Rent</td>\n",
       "      <td>Not in Labor Force</td>\n",
       "      <td>lrircsnp</td>\n",
       "      <td>MSA, Principle City</td>\n",
       "      <td>0.0</td>\n",
       "      <td>0.0</td>\n",
       "      <td>NaN</td>\n",
       "      <td>NaN</td>\n",
       "      <td>0</td>\n",
       "      <td>1</td>\n",
       "    </tr>\n",
       "    <tr>\n",
       "      <th>4</th>\n",
       "      <td>4</td>\n",
       "      <td>2.0</td>\n",
       "      <td>1.0</td>\n",
       "      <td>0.0</td>\n",
       "      <td>1.0</td>\n",
       "      <td>0.0</td>\n",
       "      <td>1.0</td>\n",
       "      <td>1.0</td>\n",
       "      <td>0.0</td>\n",
       "      <td>1.0</td>\n",
       "      <td>...</td>\n",
       "      <td>Own</td>\n",
       "      <td>Employed</td>\n",
       "      <td>qufhixun</td>\n",
       "      <td>MSA, Not Principle  City</td>\n",
       "      <td>1.0</td>\n",
       "      <td>0.0</td>\n",
       "      <td>wxleyezf</td>\n",
       "      <td>emcorrxb</td>\n",
       "      <td>0</td>\n",
       "      <td>0</td>\n",
       "    </tr>\n",
       "    <tr>\n",
       "      <th>...</th>\n",
       "      <td>...</td>\n",
       "      <td>...</td>\n",
       "      <td>...</td>\n",
       "      <td>...</td>\n",
       "      <td>...</td>\n",
       "      <td>...</td>\n",
       "      <td>...</td>\n",
       "      <td>...</td>\n",
       "      <td>...</td>\n",
       "      <td>...</td>\n",
       "      <td>...</td>\n",
       "      <td>...</td>\n",
       "      <td>...</td>\n",
       "      <td>...</td>\n",
       "      <td>...</td>\n",
       "      <td>...</td>\n",
       "      <td>...</td>\n",
       "      <td>...</td>\n",
       "      <td>...</td>\n",
       "      <td>...</td>\n",
       "      <td>...</td>\n",
       "    </tr>\n",
       "    <tr>\n",
       "      <th>26702</th>\n",
       "      <td>26702</td>\n",
       "      <td>2.0</td>\n",
       "      <td>0.0</td>\n",
       "      <td>0.0</td>\n",
       "      <td>1.0</td>\n",
       "      <td>0.0</td>\n",
       "      <td>0.0</td>\n",
       "      <td>0.0</td>\n",
       "      <td>1.0</td>\n",
       "      <td>0.0</td>\n",
       "      <td>...</td>\n",
       "      <td>Own</td>\n",
       "      <td>Not in Labor Force</td>\n",
       "      <td>qufhixun</td>\n",
       "      <td>Non-MSA</td>\n",
       "      <td>0.0</td>\n",
       "      <td>0.0</td>\n",
       "      <td>NaN</td>\n",
       "      <td>NaN</td>\n",
       "      <td>0</td>\n",
       "      <td>0</td>\n",
       "    </tr>\n",
       "    <tr>\n",
       "      <th>26703</th>\n",
       "      <td>26703</td>\n",
       "      <td>1.0</td>\n",
       "      <td>2.0</td>\n",
       "      <td>0.0</td>\n",
       "      <td>1.0</td>\n",
       "      <td>0.0</td>\n",
       "      <td>1.0</td>\n",
       "      <td>0.0</td>\n",
       "      <td>0.0</td>\n",
       "      <td>0.0</td>\n",
       "      <td>...</td>\n",
       "      <td>Rent</td>\n",
       "      <td>Employed</td>\n",
       "      <td>lzgpxyit</td>\n",
       "      <td>MSA, Principle City</td>\n",
       "      <td>1.0</td>\n",
       "      <td>0.0</td>\n",
       "      <td>fcxhlnwr</td>\n",
       "      <td>cmhcxjea</td>\n",
       "      <td>0</td>\n",
       "      <td>0</td>\n",
       "    </tr>\n",
       "    <tr>\n",
       "      <th>26704</th>\n",
       "      <td>26704</td>\n",
       "      <td>2.0</td>\n",
       "      <td>2.0</td>\n",
       "      <td>0.0</td>\n",
       "      <td>1.0</td>\n",
       "      <td>1.0</td>\n",
       "      <td>1.0</td>\n",
       "      <td>1.0</td>\n",
       "      <td>0.0</td>\n",
       "      <td>1.0</td>\n",
       "      <td>...</td>\n",
       "      <td>Own</td>\n",
       "      <td>NaN</td>\n",
       "      <td>lzgpxyit</td>\n",
       "      <td>MSA, Not Principle  City</td>\n",
       "      <td>0.0</td>\n",
       "      <td>0.0</td>\n",
       "      <td>NaN</td>\n",
       "      <td>NaN</td>\n",
       "      <td>0</td>\n",
       "      <td>1</td>\n",
       "    </tr>\n",
       "    <tr>\n",
       "      <th>26705</th>\n",
       "      <td>26705</td>\n",
       "      <td>1.0</td>\n",
       "      <td>1.0</td>\n",
       "      <td>0.0</td>\n",
       "      <td>0.0</td>\n",
       "      <td>0.0</td>\n",
       "      <td>0.0</td>\n",
       "      <td>0.0</td>\n",
       "      <td>0.0</td>\n",
       "      <td>NaN</td>\n",
       "      <td>...</td>\n",
       "      <td>Rent</td>\n",
       "      <td>Employed</td>\n",
       "      <td>lrircsnp</td>\n",
       "      <td>Non-MSA</td>\n",
       "      <td>1.0</td>\n",
       "      <td>0.0</td>\n",
       "      <td>fcxhlnwr</td>\n",
       "      <td>haliazsg</td>\n",
       "      <td>0</td>\n",
       "      <td>0</td>\n",
       "    </tr>\n",
       "    <tr>\n",
       "      <th>26706</th>\n",
       "      <td>26706</td>\n",
       "      <td>0.0</td>\n",
       "      <td>0.0</td>\n",
       "      <td>0.0</td>\n",
       "      <td>1.0</td>\n",
       "      <td>0.0</td>\n",
       "      <td>0.0</td>\n",
       "      <td>0.0</td>\n",
       "      <td>0.0</td>\n",
       "      <td>0.0</td>\n",
       "      <td>...</td>\n",
       "      <td>Own</td>\n",
       "      <td>Not in Labor Force</td>\n",
       "      <td>mlyzmhmf</td>\n",
       "      <td>MSA, Principle City</td>\n",
       "      <td>1.0</td>\n",
       "      <td>0.0</td>\n",
       "      <td>NaN</td>\n",
       "      <td>NaN</td>\n",
       "      <td>0</td>\n",
       "      <td>0</td>\n",
       "    </tr>\n",
       "  </tbody>\n",
       "</table>\n",
       "<p>26707 rows × 38 columns</p>\n",
       "</div>"
      ],
      "text/plain": [
       "       respondent_id  h1n1_concern  h1n1_knowledge  behavioral_antiviral_meds  \\\n",
       "0                  0           1.0             0.0                        0.0   \n",
       "1                  1           3.0             2.0                        0.0   \n",
       "2                  2           1.0             1.0                        0.0   \n",
       "3                  3           1.0             1.0                        0.0   \n",
       "4                  4           2.0             1.0                        0.0   \n",
       "...              ...           ...             ...                        ...   \n",
       "26702          26702           2.0             0.0                        0.0   \n",
       "26703          26703           1.0             2.0                        0.0   \n",
       "26704          26704           2.0             2.0                        0.0   \n",
       "26705          26705           1.0             1.0                        0.0   \n",
       "26706          26706           0.0             0.0                        0.0   \n",
       "\n",
       "       behavioral_avoidance  behavioral_face_mask  behavioral_wash_hands  \\\n",
       "0                       0.0                   0.0                    0.0   \n",
       "1                       1.0                   0.0                    1.0   \n",
       "2                       1.0                   0.0                    0.0   \n",
       "3                       1.0                   0.0                    1.0   \n",
       "4                       1.0                   0.0                    1.0   \n",
       "...                     ...                   ...                    ...   \n",
       "26702                   1.0                   0.0                    0.0   \n",
       "26703                   1.0                   0.0                    1.0   \n",
       "26704                   1.0                   1.0                    1.0   \n",
       "26705                   0.0                   0.0                    0.0   \n",
       "26706                   1.0                   0.0                    0.0   \n",
       "\n",
       "       behavioral_large_gatherings  behavioral_outside_home  \\\n",
       "0                              0.0                      1.0   \n",
       "1                              0.0                      1.0   \n",
       "2                              0.0                      0.0   \n",
       "3                              1.0                      0.0   \n",
       "4                              1.0                      0.0   \n",
       "...                            ...                      ...   \n",
       "26702                          0.0                      1.0   \n",
       "26703                          0.0                      0.0   \n",
       "26704                          1.0                      0.0   \n",
       "26705                          0.0                      0.0   \n",
       "26706                          0.0                      0.0   \n",
       "\n",
       "       behavioral_touch_face  ...  rent_or_own   employment_status  \\\n",
       "0                        1.0  ...          Own  Not in Labor Force   \n",
       "1                        1.0  ...         Rent            Employed   \n",
       "2                        0.0  ...          Own            Employed   \n",
       "3                        0.0  ...         Rent  Not in Labor Force   \n",
       "4                        1.0  ...          Own            Employed   \n",
       "...                      ...  ...          ...                 ...   \n",
       "26702                    0.0  ...          Own  Not in Labor Force   \n",
       "26703                    0.0  ...         Rent            Employed   \n",
       "26704                    1.0  ...          Own                 NaN   \n",
       "26705                    NaN  ...         Rent            Employed   \n",
       "26706                    0.0  ...          Own  Not in Labor Force   \n",
       "\n",
       "       hhs_geo_region                census_msa  household_adults  \\\n",
       "0            oxchjgsf                   Non-MSA               0.0   \n",
       "1            bhuqouqj  MSA, Not Principle  City               0.0   \n",
       "2            qufhixun  MSA, Not Principle  City               2.0   \n",
       "3            lrircsnp       MSA, Principle City               0.0   \n",
       "4            qufhixun  MSA, Not Principle  City               1.0   \n",
       "...               ...                       ...               ...   \n",
       "26702        qufhixun                   Non-MSA               0.0   \n",
       "26703        lzgpxyit       MSA, Principle City               1.0   \n",
       "26704        lzgpxyit  MSA, Not Principle  City               0.0   \n",
       "26705        lrircsnp                   Non-MSA               1.0   \n",
       "26706        mlyzmhmf       MSA, Principle City               1.0   \n",
       "\n",
       "       household_children  employment_industry  employment_occupation  \\\n",
       "0                     0.0                  NaN                    NaN   \n",
       "1                     0.0             pxcmvdjn               xgwztkwe   \n",
       "2                     0.0             rucpziij               xtkaffoo   \n",
       "3                     0.0                  NaN                    NaN   \n",
       "4                     0.0             wxleyezf               emcorrxb   \n",
       "...                   ...                  ...                    ...   \n",
       "26702                 0.0                  NaN                    NaN   \n",
       "26703                 0.0             fcxhlnwr               cmhcxjea   \n",
       "26704                 0.0                  NaN                    NaN   \n",
       "26705                 0.0             fcxhlnwr               haliazsg   \n",
       "26706                 0.0                  NaN                    NaN   \n",
       "\n",
       "       h1n1_vaccine  seasonal_vaccine  \n",
       "0                 0                 0  \n",
       "1                 0                 1  \n",
       "2                 0                 0  \n",
       "3                 0                 1  \n",
       "4                 0                 0  \n",
       "...             ...               ...  \n",
       "26702             0                 0  \n",
       "26703             0                 0  \n",
       "26704             0                 1  \n",
       "26705             0                 0  \n",
       "26706             0                 0  \n",
       "\n",
       "[26707 rows x 38 columns]"
      ]
     },
     "execution_count": 4,
     "metadata": {},
     "output_type": "execute_result"
    }
   ],
   "source": [
    "flu_df"
   ]
  },
  {
   "cell_type": "code",
   "execution_count": 5,
   "metadata": {
    "scrolled": true
   },
   "outputs": [
    {
     "name": "stdout",
     "output_type": "stream",
     "text": [
      "<class 'pandas.core.frame.DataFrame'>\n",
      "Int64Index: 26707 entries, 0 to 26706\n",
      "Data columns (total 38 columns):\n",
      " #   Column                       Non-Null Count  Dtype  \n",
      "---  ------                       --------------  -----  \n",
      " 0   respondent_id                26707 non-null  int64  \n",
      " 1   h1n1_concern                 26615 non-null  float64\n",
      " 2   h1n1_knowledge               26591 non-null  float64\n",
      " 3   behavioral_antiviral_meds    26636 non-null  float64\n",
      " 4   behavioral_avoidance         26499 non-null  float64\n",
      " 5   behavioral_face_mask         26688 non-null  float64\n",
      " 6   behavioral_wash_hands        26665 non-null  float64\n",
      " 7   behavioral_large_gatherings  26620 non-null  float64\n",
      " 8   behavioral_outside_home      26625 non-null  float64\n",
      " 9   behavioral_touch_face        26579 non-null  float64\n",
      " 10  doctor_recc_h1n1             24547 non-null  float64\n",
      " 11  doctor_recc_seasonal         24547 non-null  float64\n",
      " 12  chronic_med_condition        25736 non-null  float64\n",
      " 13  child_under_6_months         25887 non-null  float64\n",
      " 14  health_worker                25903 non-null  float64\n",
      " 15  health_insurance             14433 non-null  float64\n",
      " 16  opinion_h1n1_vacc_effective  26316 non-null  float64\n",
      " 17  opinion_h1n1_risk            26319 non-null  float64\n",
      " 18  opinion_h1n1_sick_from_vacc  26312 non-null  float64\n",
      " 19  opinion_seas_vacc_effective  26245 non-null  float64\n",
      " 20  opinion_seas_risk            26193 non-null  float64\n",
      " 21  opinion_seas_sick_from_vacc  26170 non-null  float64\n",
      " 22  age_group                    26707 non-null  object \n",
      " 23  education                    25300 non-null  object \n",
      " 24  race                         26707 non-null  object \n",
      " 25  sex                          26707 non-null  object \n",
      " 26  income_poverty               22284 non-null  object \n",
      " 27  marital_status               25299 non-null  object \n",
      " 28  rent_or_own                  24665 non-null  object \n",
      " 29  employment_status            25244 non-null  object \n",
      " 30  hhs_geo_region               26707 non-null  object \n",
      " 31  census_msa                   26707 non-null  object \n",
      " 32  household_adults             26458 non-null  float64\n",
      " 33  household_children           26458 non-null  float64\n",
      " 34  employment_industry          13377 non-null  object \n",
      " 35  employment_occupation        13237 non-null  object \n",
      " 36  h1n1_vaccine                 26707 non-null  int64  \n",
      " 37  seasonal_vaccine             26707 non-null  int64  \n",
      "dtypes: float64(23), int64(3), object(12)\n",
      "memory usage: 7.9+ MB\n"
     ]
    }
   ],
   "source": [
    "flu_df.info()"
   ]
  },
  {
   "cell_type": "code",
   "execution_count": 6,
   "metadata": {},
   "outputs": [],
   "source": [
    "X=flu_df.drop('seasonal_vaccine', axis=1)\n",
    "y=flu_df['seasonal_vaccine']"
   ]
  },
  {
   "cell_type": "code",
   "execution_count": 7,
   "metadata": {},
   "outputs": [
    {
     "name": "stdout",
     "output_type": "stream",
     "text": [
      "Index(['respondent_id', 'h1n1_concern', 'h1n1_knowledge',\n",
      "       'behavioral_antiviral_meds', 'behavioral_avoidance',\n",
      "       'behavioral_face_mask', 'behavioral_wash_hands',\n",
      "       'behavioral_large_gatherings', 'behavioral_outside_home',\n",
      "       'behavioral_touch_face', 'doctor_recc_h1n1', 'doctor_recc_seasonal',\n",
      "       'chronic_med_condition', 'child_under_6_months', 'health_worker',\n",
      "       'health_insurance', 'opinion_h1n1_vacc_effective', 'opinion_h1n1_risk',\n",
      "       'opinion_h1n1_sick_from_vacc', 'opinion_seas_vacc_effective',\n",
      "       'opinion_seas_risk', 'opinion_seas_sick_from_vacc', 'age_group',\n",
      "       'education', 'race', 'sex', 'income_poverty', 'marital_status',\n",
      "       'rent_or_own', 'employment_status', 'hhs_geo_region', 'census_msa',\n",
      "       'household_adults', 'household_children', 'employment_industry',\n",
      "       'employment_occupation', 'h1n1_vaccine'],\n",
      "      dtype='object')\n"
     ]
    }
   ],
   "source": [
    "print(X.columns\n",
    ")"
   ]
  },
  {
   "cell_type": "code",
   "execution_count": 8,
   "metadata": {},
   "outputs": [],
   "source": [
    "X_train, X_test, y_train, y_test = train_test_split(X, y, test_size=.25, random_state=12)"
   ]
  },
  {
   "cell_type": "code",
   "execution_count": 9,
   "metadata": {},
   "outputs": [],
   "source": [
    "numbers=['h1n1_concern', 'h1n1_knowledge','opinion_h1n1_vacc_effective', 'opinion_h1n1_risk', 'opinion_h1n1_sick_from_vacc', 'opinion_seas_vacc_effective', 'opinion_seas_risk', 'opinion_seas_sick_from_vacc', 'household_adults', 'household_children']\n",
    "onehots=['race', 'sex',  'marital_status', 'income_poverty', 'age_group', 'education', 'rent_or_own','employment_status', 'hhs_geo_region', 'census_msa', 'employment_industry', 'employment_occupation']\n",
    "binary= ['behavioral_antiviral_meds', 'behavioral_avoidance', 'behavioral_face_mask', 'behavioral_wash_hands', 'behavioral_large_gatherings', 'behavioral_outside_home', 'behavioral_touch_face', 'doctor_recc_h1n1', 'doctor_recc_seasonal', 'chronic_med_condition', 'child_under_6_months', 'health_worker', 'health_insurance', 'h1n1_vaccine']"
   ]
  },
  {
   "cell_type": "code",
   "execution_count": 10,
   "metadata": {},
   "outputs": [],
   "source": [
    "numbers_pipeline = Pipeline(steps=[\n",
    "    ('impute_nums', SimpleImputer(strategy='most_frequent', add_indicator=True)),\n",
    "    ('num', StandardScaler())])"
   ]
  },
  {
   "cell_type": "code",
   "execution_count": 11,
   "metadata": {},
   "outputs": [],
   "source": [
    "onehots_pipeline = Pipeline(steps=[\n",
    "    ('impute_ohe', SimpleImputer(strategy='most_frequent', add_indicator=True)),\n",
    "    ('ohe', OneHotEncoder(handle_unknown='ignore'))])"
   ]
  },
  {
   "cell_type": "code",
   "execution_count": 12,
   "metadata": {},
   "outputs": [],
   "source": [
    "binary_pipeline = Pipeline(steps=[('impute_bin', SimpleImputer(strategy='most_frequent', add_indicator=True))])"
   ]
  },
  {
   "cell_type": "code",
   "execution_count": 13,
   "metadata": {},
   "outputs": [],
   "source": [
    "col_tr = ColumnTransformer(transformers=[('num', numbers_pipeline, numbers),\n",
    "                                        ('ohe', onehots_pipeline, onehots),\n",
    "                                        ('bin', binary_pipeline, binary)],\n",
    "                          remainder='drop', sparse_threshold=0)"
   ]
  },
  {
   "cell_type": "code",
   "execution_count": 14,
   "metadata": {},
   "outputs": [
    {
     "data": {
      "text/plain": [
       "DummyClassifier(strategy='most_frequent')"
      ]
     },
     "execution_count": 14,
     "metadata": {},
     "output_type": "execute_result"
    }
   ],
   "source": [
    "\n",
    "dummy = DummyClassifier(strategy='most_frequent')\n",
    "dummy.fit(X_train, y_train)"
   ]
  },
  {
   "cell_type": "code",
   "execution_count": 15,
   "metadata": {},
   "outputs": [
    {
     "data": {
      "text/plain": [
       "0.5326510234648028"
      ]
     },
     "execution_count": 15,
     "metadata": {},
     "output_type": "execute_result"
    }
   ],
   "source": [
    "dummy.score(X_train, y_train)"
   ]
  },
  {
   "cell_type": "markdown",
   "metadata": {},
   "source": [
    "# Decision Tree"
   ]
  },
  {
   "cell_type": "code",
   "execution_count": 16,
   "metadata": {},
   "outputs": [],
   "source": [
    "tree_pipe = Pipeline(steps=[('ct', col_tr), \n",
    "                           ('dtree', DecisionTreeClassifier(random_state=12))])"
   ]
  },
  {
   "cell_type": "code",
   "execution_count": 17,
   "metadata": {
    "scrolled": true
   },
   "outputs": [
    {
     "data": {
      "text/plain": [
       "Pipeline(steps=[('ct',\n",
       "                 ColumnTransformer(sparse_threshold=0,\n",
       "                                   transformers=[('num',\n",
       "                                                  Pipeline(steps=[('impute_nums',\n",
       "                                                                   SimpleImputer(add_indicator=True,\n",
       "                                                                                 strategy='most_frequent')),\n",
       "                                                                  ('num',\n",
       "                                                                   StandardScaler())]),\n",
       "                                                  ['h1n1_concern',\n",
       "                                                   'h1n1_knowledge',\n",
       "                                                   'opinion_h1n1_vacc_effective',\n",
       "                                                   'opinion_h1n1_risk',\n",
       "                                                   'opinion_h1n1_sick_from_vacc',\n",
       "                                                   'opinion_seas_vacc_effective',\n",
       "                                                   'opinion_...\n",
       "                                                  ['behavioral_antiviral_meds',\n",
       "                                                   'behavioral_avoidance',\n",
       "                                                   'behavioral_face_mask',\n",
       "                                                   'behavioral_wash_hands',\n",
       "                                                   'behavioral_large_gatherings',\n",
       "                                                   'behavioral_outside_home',\n",
       "                                                   'behavioral_touch_face',\n",
       "                                                   'doctor_recc_h1n1',\n",
       "                                                   'doctor_recc_seasonal',\n",
       "                                                   'chronic_med_condition',\n",
       "                                                   'child_under_6_months',\n",
       "                                                   'health_worker',\n",
       "                                                   'health_insurance',\n",
       "                                                   'h1n1_vaccine'])])),\n",
       "                ('dtree', DecisionTreeClassifier(random_state=12))])"
      ]
     },
     "execution_count": 17,
     "metadata": {},
     "output_type": "execute_result"
    }
   ],
   "source": [
    "tree_pipe.fit(X_train, y_train)"
   ]
  },
  {
   "cell_type": "code",
   "execution_count": 18,
   "metadata": {},
   "outputs": [
    {
     "data": {
      "text/plain": [
       "{'fit_time': array([0.64538431, 0.64066482, 0.63542199, 0.63946509, 0.63588476]),\n",
       " 'score_time': array([0.01774597, 0.01713419, 0.0167501 , 0.01666188, 0.01663923]),\n",
       " 'test_score': array([0.71018472, 0.70968547, 0.72241638, 0.71867199, 0.71767349]),\n",
       " 'train_score': array([1., 1., 1., 1., 1.])}"
      ]
     },
     "execution_count": 18,
     "metadata": {},
     "output_type": "execute_result"
    }
   ],
   "source": [
    "cv_results = cross_validate(estimator=tree_pipe, X=X_train, y=y_train, cv=5,\n",
    "                            return_train_score=True)\n",
    "cv_results"
   ]
  },
  {
   "cell_type": "code",
   "execution_count": 19,
   "metadata": {},
   "outputs": [],
   "source": [
    "tree_y_train = tree_pipe.predict(X_train)\n",
    "tree_y_pred = tree_pipe.predict(X_test)"
   ]
  },
  {
   "cell_type": "code",
   "execution_count": 20,
   "metadata": {},
   "outputs": [
    {
     "name": "stdout",
     "output_type": "stream",
     "text": [
      "1.0\n",
      "0.6860133206470028\n"
     ]
    }
   ],
   "source": [
    "print(precision_score(y_train, tree_y_train))\n",
    "print(precision_score(y_test, tree_y_pred))"
   ]
  },
  {
   "cell_type": "code",
   "execution_count": 21,
   "metadata": {},
   "outputs": [],
   "source": [
    "tree_pipe = Pipeline(steps=[('ct', col_tr), \n",
    "                           ('dtree', DecisionTreeClassifier(random_state=12, max_depth=7))])"
   ]
  },
  {
   "cell_type": "code",
   "execution_count": 22,
   "metadata": {},
   "outputs": [
    {
     "data": {
      "text/plain": [
       "Pipeline(steps=[('ct',\n",
       "                 ColumnTransformer(sparse_threshold=0,\n",
       "                                   transformers=[('num',\n",
       "                                                  Pipeline(steps=[('impute_nums',\n",
       "                                                                   SimpleImputer(add_indicator=True,\n",
       "                                                                                 strategy='most_frequent')),\n",
       "                                                                  ('num',\n",
       "                                                                   StandardScaler())]),\n",
       "                                                  ['h1n1_concern',\n",
       "                                                   'h1n1_knowledge',\n",
       "                                                   'opinion_h1n1_vacc_effective',\n",
       "                                                   'opinion_h1n1_risk',\n",
       "                                                   'opinion_h1n1_sick_from_vacc',\n",
       "                                                   'opinion_seas_vacc_effective',\n",
       "                                                   'opinion_...\n",
       "                                                   'behavioral_avoidance',\n",
       "                                                   'behavioral_face_mask',\n",
       "                                                   'behavioral_wash_hands',\n",
       "                                                   'behavioral_large_gatherings',\n",
       "                                                   'behavioral_outside_home',\n",
       "                                                   'behavioral_touch_face',\n",
       "                                                   'doctor_recc_h1n1',\n",
       "                                                   'doctor_recc_seasonal',\n",
       "                                                   'chronic_med_condition',\n",
       "                                                   'child_under_6_months',\n",
       "                                                   'health_worker',\n",
       "                                                   'health_insurance',\n",
       "                                                   'h1n1_vaccine'])])),\n",
       "                ('dtree',\n",
       "                 DecisionTreeClassifier(max_depth=7, random_state=12))])"
      ]
     },
     "execution_count": 22,
     "metadata": {},
     "output_type": "execute_result"
    }
   ],
   "source": [
    "tree_pipe.fit(X_train, y_train)"
   ]
  },
  {
   "cell_type": "code",
   "execution_count": 23,
   "metadata": {},
   "outputs": [
    {
     "data": {
      "text/plain": [
       "{'fit_time': array([0.56026292, 0.55300474, 0.55590296, 0.55378199, 0.55185795]),\n",
       " 'score_time': array([0.016608  , 0.01671028, 0.01648116, 0.01626492, 0.01616502]),\n",
       " 'test_score': array([0.77858213, 0.77333999, 0.78582127, 0.78032951, 0.78082876]),\n",
       " 'train_score': array([0.80029955, 0.8007988 , 0.80054918, 0.80048677, 0.8007364 ])}"
      ]
     },
     "execution_count": 23,
     "metadata": {},
     "output_type": "execute_result"
    }
   ],
   "source": [
    "cv_results = cross_validate(estimator=tree_pipe, X=X_train, y=y_train, cv=5,\n",
    "                            return_train_score=True)\n",
    "cv_results"
   ]
  },
  {
   "cell_type": "code",
   "execution_count": 24,
   "metadata": {},
   "outputs": [],
   "source": [
    "tree_y_train = tree_pipe.predict(X_train)\n",
    "tree_y_pred = tree_pipe.predict(X_test)"
   ]
  },
  {
   "cell_type": "code",
   "execution_count": 25,
   "metadata": {},
   "outputs": [
    {
     "name": "stdout",
     "output_type": "stream",
     "text": [
      "0.7993498486716736\n",
      "0.7915804002760525\n"
     ]
    }
   ],
   "source": [
    "print(precision_score(y_train, tree_y_train))\n",
    "print(precision_score(y_test, tree_y_pred))"
   ]
  },
  {
   "cell_type": "code",
   "execution_count": 26,
   "metadata": {},
   "outputs": [
    {
     "data": {
      "image/png": "[encoded data removed]",
      "text/plain": [
       "<Figure size 576x432 with 1 Axes>"
      ]
     },
     "metadata": {
      "needs_background": "light"
     },
     "output_type": "display_data"
    }
   ],
   "source": [
    "cm = confusion_matrix(y_test, tree_y_pred)\n",
    "\n",
    "# Create a heatmap to visualize the confusion matrix\n",
    "plt.figure(figsize=(8, 6))\n",
    "sns.heatmap(cm, annot=True, fmt=\"d\", cmap=\"Blues\", cbar=False)\n",
    "plt.xlabel(\"Predicted\")\n",
    "plt.ylabel(\"Actual\")\n",
    "plt.title(\"Confusion Matrix\")\n",
    "plt.show()"
   ]
  },
  {
   "cell_type": "markdown",
   "metadata": {},
   "source": [
    "# Logistic Regression"
   ]
  },
  {
   "cell_type": "code",
   "execution_count": 27,
   "metadata": {},
   "outputs": [],
   "source": [
    "X_train_tr = col_tr.fit_transform(X_train)\n",
    "X_test_tr = col_tr.transform(X_test)"
   ]
  },
  {
   "cell_type": "code",
   "execution_count": 28,
   "metadata": {},
   "outputs": [
    {
     "data": {
      "text/plain": [
       "Pipeline(steps=[('logistic', LogisticRegression(C=1, max_iter=1000))])"
      ]
     },
     "execution_count": 28,
     "metadata": {},
     "output_type": "execute_result"
    }
   ],
   "source": [
    "from sklearn.model_selection import GridSearchCV\n",
    "\n",
    "log_pipe = Pipeline([\n",
    "    ('logistic', LogisticRegression(max_iter=1000))\n",
    "])\n",
    "\n",
    "\n",
    "param_grid = {'logistic__C': [0.001, 0.01, 0.1, 1, 10]}\n",
    "\n",
    "grid_search = GridSearchCV(log_pipe, param_grid, cv=5, scoring='f1')\n",
    "\n",
    "grid_search.fit(X_train_tr, y_train)\n",
    "\n",
    "best_C = grid_search.best_params_['logistic__C']\n",
    "best_f1_score = grid_search.best_score_\n",
    "\n",
    "final_model = Pipeline([\n",
    "    ('logistic', LogisticRegression(C=best_C, max_iter=1000))\n",
    "])\n",
    "final_model.fit(X_train_tr, y_train)"
   ]
  },
  {
   "cell_type": "code",
   "execution_count": 29,
   "metadata": {},
   "outputs": [
    {
     "data": {
      "text/plain": [
       "{'fit_time': array([0.53745103, 0.5748601 , 0.57510185, 0.52424717, 0.51656818]),\n",
       " 'score_time': array([0.00060105, 0.00056195, 0.00062418, 0.00058484, 0.00059009]),\n",
       " 'test_score': array([0.79081378, 0.7998003 , 0.8017973 , 0.79605592, 0.80129805]),\n",
       " 'train_score': array([0.80410634, 0.80086121, 0.80036196, 0.80416875, 0.80279581])}"
      ]
     },
     "execution_count": 29,
     "metadata": {},
     "output_type": "execute_result"
    }
   ],
   "source": [
    "cv_log_results = cross_validate(estimator= final_model, X=X_train_tr, y=y_train, cv=5,\n",
    "                            return_train_score=True)\n",
    "cv_log_results"
   ]
  },
  {
   "cell_type": "code",
   "execution_count": 30,
   "metadata": {},
   "outputs": [],
   "source": [
    "y_train_pred = final_model.predict(X_train_tr)\n",
    "y_test_pred = final_model.predict(X_test_tr)"
   ]
  },
  {
   "cell_type": "code",
   "execution_count": 31,
   "metadata": {},
   "outputs": [
    {
     "name": "stdout",
     "output_type": "stream",
     "text": [
      "0.8041120650700406\n",
      "0.803076923076923\n"
     ]
    }
   ],
   "source": [
    "print(precision_score(y_train, y_train_pred))\n",
    "print(precision_score(y_test, y_test_pred))"
   ]
  },
  {
   "cell_type": "code",
   "execution_count": 32,
   "metadata": {},
   "outputs": [
    {
     "data": {
      "text/plain": [
       "0.7831305217536255"
      ]
     },
     "execution_count": 32,
     "metadata": {},
     "output_type": "execute_result"
    }
   ],
   "source": [
    "f1 = f1_score(y_test, y_test_pred)\n",
    "f1"
   ]
  },
  {
   "cell_type": "code",
   "execution_count": 33,
   "metadata": {},
   "outputs": [
    {
     "data": {
      "image/png": "[encoded data removed]",
      "text/plain": [
       "<Figure size 576x432 with 1 Axes>"
      ]
     },
     "metadata": {
      "needs_background": "light"
     },
     "output_type": "display_data"
    }
   ],
   "source": [
    "roc_auc = roc_auc_score(y_test, y_test_pred)\n",
    "\n",
    "\n",
    "fpr, tpr, _ = roc_curve(y_test, y_test_pred)\n",
    "\n",
    "plt.figure(figsize=(8, 6))\n",
    "plt.plot(fpr, tpr, linewidth=2, label='ROC Curve (AUC = {:.2f})'.format(roc_auc))\n",
    "plt.plot([0, 1], [0, 1], 'k--', linewidth=2)\n",
    "plt.xlim([0.0, 1.0])\n",
    "plt.ylim([0.0, 1.05])\n",
    "plt.xlabel('False Positive Rate')\n",
    "plt.ylabel('True Positive Rate')\n",
    "plt.title('Receiver Operating Characteristic (ROC) Curve')\n",
    "plt.legend(loc='lower right')\n",
    "plt.grid(True)\n",
    "plt.show()"
   ]
  },
  {
   "cell_type": "code",
   "execution_count": 34,
   "metadata": {},
   "outputs": [],
   "source": [
    "from sklearn.model_selection import cross_val_score\n",
    "\n",
    "scores = cross_val_score(final_model, X_train_tr, y_train, cv=5, scoring='accuracy')"
   ]
  },
  {
   "cell_type": "code",
   "execution_count": 35,
   "metadata": {},
   "outputs": [
    {
     "name": "stdout",
     "output_type": "stream",
     "text": [
      "Mean Accuracy: 0.7979530703944084\n",
      "Standard Deviation of Accuracy: 0.004097510639776977\n"
     ]
    }
   ],
   "source": [
    "mean_accuracy = scores.mean()\n",
    "std_accuracy = scores.std()\n",
    "\n",
    "print(f'Mean Accuracy: {mean_accuracy}')\n",
    "print(f'Standard Deviation of Accuracy: {std_accuracy}') #low std: consistency, reliability, generalization"
   ]
  },
  {
   "cell_type": "code",
   "execution_count": 36,
   "metadata": {},
   "outputs": [
    {
     "data": {
      "image/png": "[encoded data removed]",
      "text/plain": [
       "<Figure size 576x432 with 1 Axes>"
      ]
     },
     "metadata": {
      "needs_background": "light"
     },
     "output_type": "display_data"
    }
   ],
   "source": [
    "cm = confusion_matrix(y_test, y_test_pred)\n",
    "\n",
    "# Create a heatmap to visualize the confusion matrix\n",
    "plt.figure(figsize=(8, 6))\n",
    "sns.heatmap(cm, annot=True, fmt=\"d\", cmap=\"Blues\", cbar=False)\n",
    "plt.xlabel(\"Predicted\")\n",
    "plt.ylabel(\"Actual\")\n",
    "plt.title(\"Confusion Matrix\")\n",
    "plt.show()"
   ]
  },
  {
   "cell_type": "code",
   "execution_count": 37,
   "metadata": {},
   "outputs": [
    {
     "data": {
      "text/plain": [
       "{'logistic': LogisticRegression(C=1, max_iter=1000)}"
      ]
     },
     "execution_count": 37,
     "metadata": {},
     "output_type": "execute_result"
    }
   ],
   "source": [
    "final_model.named_steps"
   ]
  },
  {
   "cell_type": "code",
   "execution_count": 38,
   "metadata": {
    "scrolled": true
   },
   "outputs": [
    {
     "data": {
      "text/plain": [
       "143"
      ]
     },
     "execution_count": 38,
     "metadata": {},
     "output_type": "execute_result"
    }
   ],
   "source": [
    "coeff = final_model.named_steps['logistic'].coef_\n",
    "len(coeff[0])"
   ]
  },
  {
   "cell_type": "code",
   "execution_count": 39,
   "metadata": {},
   "outputs": [
    {
     "data": {
      "text/plain": [
       "96"
      ]
     },
     "execution_count": 39,
     "metadata": {},
     "output_type": "execute_result"
    }
   ],
   "source": [
    "obj = list(col_tr.named_transformers_['ohe'].named_steps['ohe'].get_feature_names())\n",
    "len(obj)"
   ]
  },
  {
   "cell_type": "code",
   "execution_count": 40,
   "metadata": {},
   "outputs": [],
   "source": [
    "num_ind = ['h1n1_concern', 'h1n1_knowledge', 'opinion_h1n1_vacc_effective', 'opinion_h1n1_risk', 'opinion_h1n1_sick_from_vacc', 'opinion_seas_vacc_effective', 'opinion_seas_risk', 'opinion_seas_sick_from_vacc', 'household_adults', 'household_children']"
   ]
  },
  {
   "cell_type": "code",
   "execution_count": 41,
   "metadata": {},
   "outputs": [
    {
     "name": "stdout",
     "output_type": "stream",
     "text": [
      "['h1n1_concern_indicator', 'h1n1_knowledge_indicator', 'opinion_h1n1_vacc_effective_indicator', 'opinion_h1n1_risk_indicator', 'opinion_h1n1_sick_from_vacc_indicator', 'opinion_seas_vacc_effective_indicator', 'opinion_seas_risk_indicator', 'opinion_seas_sick_from_vacc_indicator', 'household_adults_indicator', 'household_children_indicator']\n"
     ]
    }
   ],
   "source": [
    "num_ind = []\n",
    "for name in numbers:\n",
    "    new_name = name+\"_indicator\"\n",
    "    num_ind.append(new_name)\n",
    "print(num_ind)"
   ]
  },
  {
   "cell_type": "code",
   "execution_count": 42,
   "metadata": {},
   "outputs": [],
   "source": [
    "final_num = numbers + num_ind"
   ]
  },
  {
   "cell_type": "code",
   "execution_count": 43,
   "metadata": {
    "scrolled": true
   },
   "outputs": [],
   "source": [
    "final_num_cat =  final_num + obj"
   ]
  },
  {
   "cell_type": "code",
   "execution_count": 44,
   "metadata": {},
   "outputs": [
    {
     "name": "stdout",
     "output_type": "stream",
     "text": [
      "['behavioral_antiviral_meds_indicator', 'behavioral_avoidance_indicator', 'behavioral_face_mask_indicator', 'behavioral_wash_hands_indicator', 'behavioral_large_gatherings_indicator', 'behavioral_outside_home_indicator', 'behavioral_touch_face_indicator', 'doctor_recc_h1n1_indicator', 'doctor_recc_seasonal_indicator', 'chronic_med_condition_indicator', 'child_under_6_months_indicator', 'health_worker_indicator', 'health_insurance_indicator']\n"
     ]
    }
   ],
   "source": [
    "bin_ind = []\n",
    "\n",
    "for name in binary:\n",
    "    new_name = name+'_indicator'\n",
    "    bin_ind.append(new_name)\n",
    "\n",
    "bin_ind.remove('h1n1_vaccine_indicator')\n",
    "print(bin_ind)"
   ]
  },
  {
   "cell_type": "code",
   "execution_count": 45,
   "metadata": {},
   "outputs": [],
   "source": [
    "final_bin = binary + bin_ind"
   ]
  },
  {
   "cell_type": "code",
   "execution_count": 46,
   "metadata": {},
   "outputs": [
    {
     "name": "stdout",
     "output_type": "stream",
     "text": [
      "                         Feature  Coefficient  Abs_Coefficient\n",
      "129                 h1n1_vaccine     1.892155         1.892155\n",
      "124         doctor_recc_seasonal     1.570638         1.570638\n",
      "63                  x10_haxffmxo     1.345565         1.345565\n",
      "82                  x11_dcjcmpih     1.345565         1.345565\n",
      "35                  x4_65+ Years     0.937958         0.937958\n",
      "123             doctor_recc_h1n1    -0.880296         0.880296\n",
      "6              opinion_seas_risk     0.730232         0.730232\n",
      "67                  x10_msuufmds     0.718882         0.718882\n",
      "73                  x10_saaquncn    -0.667711         0.667711\n",
      "5    opinion_seas_vacc_effective     0.635440         0.635440\n"
     ]
    }
   ],
   "source": [
    "logreg_estimator = final_model.named_steps['logistic']\n",
    "\n",
    "\n",
    "coefficients = logreg_estimator.coef_\n",
    "intercept = logreg_estimator.intercept_\n",
    "\n",
    "feature_names = final_num_cat + final_bin \n",
    "\n",
    "coef_df = pd.DataFrame({'Feature': feature_names, 'Coefficient': coefficients[0]})\n",
    "\n",
    "coef_df['Abs_Coefficient'] = abs(coef_df['Coefficient'])\n",
    "sorted_coef = coef_df.sort_values(by='Abs_Coefficient', ascending=False)\n",
    "\n",
    "\n",
    "print(sorted_coef.head(10))\n"
   ]
  }
 ],
 "metadata": {
  "kernelspec": {
   "display_name": "Python (learn-env)",
   "language": "python",
   "name": "learn-env"
  },
  "language_info": {
   "codemirror_mode": {
    "name": "ipython",
    "version": 3
   },
   "file_extension": ".py",
   "mimetype": "text/x-python",
   "name": "python",
   "nbconvert_exporter": "python",
   "pygments_lexer": "ipython3",
   "version": "3.8.5"
  }
 },
 "nbformat": 4,
 "nbformat_minor": 4
}
